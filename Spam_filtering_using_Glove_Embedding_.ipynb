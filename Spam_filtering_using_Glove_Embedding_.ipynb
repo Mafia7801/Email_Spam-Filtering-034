{
  "nbformat": 4,
  "nbformat_minor": 0,
  "metadata": {
    "colab": {
      "name": "Spam_filtering_using_Glove_Embedding .ipynb",
      "provenance": [],
      "collapsed_sections": [
        "j5yDxKs7Jg3l",
        "09TivZGrJg3y",
        "78278baOJg3z"
      ],
      "toc_visible": true
    },
    "kernelspec": {
      "name": "python3",
      "display_name": "Python 3"
    },
    "accelerator": "GPU"
  },
  "cells": [
    {
      "cell_type": "code",
      "metadata": {
        "id": "RjS5xyUe9gcI"
      },
      "source": [
        "import numpy as np\n",
        "import pandas as pd\n",
        "import re\n",
        "import nltk\n",
        "import time\n",
        "from sklearn.model_selection import train_test_split\n",
        "from sklearn.feature_extraction.text import CountVectorizer\n",
        "from sklearn.naive_bayes import GaussianNB"
      ],
      "execution_count": 1,
      "outputs": []
    },
    {
      "cell_type": "code",
      "metadata": {
        "id": "B7cukQjp9gcL"
      },
      "source": [
        "df = pd.read_csv('/content/spam.csv',encoding='latin-1')\n"
      ],
      "execution_count": 2,
      "outputs": []
    },
    {
      "cell_type": "code",
      "metadata": {
        "colab": {
          "base_uri": "https://localhost:8080/",
          "height": 204
        },
        "id": "gp5d4KPH9gcM",
        "outputId": "735f2aeb-0634-4914-abc0-0aec9a43481e"
      },
      "source": [
        "df.head()"
      ],
      "execution_count": 3,
      "outputs": [
        {
          "output_type": "execute_result",
          "data": {
            "text/html": [
              "<div>\n",
              "<style scoped>\n",
              "    .dataframe tbody tr th:only-of-type {\n",
              "        vertical-align: middle;\n",
              "    }\n",
              "\n",
              "    .dataframe tbody tr th {\n",
              "        vertical-align: top;\n",
              "    }\n",
              "\n",
              "    .dataframe thead th {\n",
              "        text-align: right;\n",
              "    }\n",
              "</style>\n",
              "<table border=\"1\" class=\"dataframe\">\n",
              "  <thead>\n",
              "    <tr style=\"text-align: right;\">\n",
              "      <th></th>\n",
              "      <th>v1</th>\n",
              "      <th>v2</th>\n",
              "      <th>Unnamed: 2</th>\n",
              "      <th>Unnamed: 3</th>\n",
              "      <th>Unnamed: 4</th>\n",
              "    </tr>\n",
              "  </thead>\n",
              "  <tbody>\n",
              "    <tr>\n",
              "      <th>0</th>\n",
              "      <td>ham</td>\n",
              "      <td>Go until jurong point, crazy.. Available only ...</td>\n",
              "      <td>NaN</td>\n",
              "      <td>NaN</td>\n",
              "      <td>NaN</td>\n",
              "    </tr>\n",
              "    <tr>\n",
              "      <th>1</th>\n",
              "      <td>ham</td>\n",
              "      <td>Ok lar... Joking wif u oni...</td>\n",
              "      <td>NaN</td>\n",
              "      <td>NaN</td>\n",
              "      <td>NaN</td>\n",
              "    </tr>\n",
              "    <tr>\n",
              "      <th>2</th>\n",
              "      <td>spam</td>\n",
              "      <td>Free entry in 2 a wkly comp to win FA Cup fina...</td>\n",
              "      <td>NaN</td>\n",
              "      <td>NaN</td>\n",
              "      <td>NaN</td>\n",
              "    </tr>\n",
              "    <tr>\n",
              "      <th>3</th>\n",
              "      <td>ham</td>\n",
              "      <td>U dun say so early hor... U c already then say...</td>\n",
              "      <td>NaN</td>\n",
              "      <td>NaN</td>\n",
              "      <td>NaN</td>\n",
              "    </tr>\n",
              "    <tr>\n",
              "      <th>4</th>\n",
              "      <td>ham</td>\n",
              "      <td>Nah I don't think he goes to usf, he lives aro...</td>\n",
              "      <td>NaN</td>\n",
              "      <td>NaN</td>\n",
              "      <td>NaN</td>\n",
              "    </tr>\n",
              "  </tbody>\n",
              "</table>\n",
              "</div>"
            ],
            "text/plain": [
              "     v1  ... Unnamed: 4\n",
              "0   ham  ...        NaN\n",
              "1   ham  ...        NaN\n",
              "2  spam  ...        NaN\n",
              "3   ham  ...        NaN\n",
              "4   ham  ...        NaN\n",
              "\n",
              "[5 rows x 5 columns]"
            ]
          },
          "metadata": {
            "tags": []
          },
          "execution_count": 3
        }
      ]
    },
    {
      "cell_type": "code",
      "metadata": {
        "colab": {
          "base_uri": "https://localhost:8080/",
          "height": 204
        },
        "id": "Y2FKnNJQsx81",
        "outputId": "bafb892c-335b-47eb-9695-50f5d39bbf53"
      },
      "source": [
        "# converting to binary data\n",
        "df_one = pd.get_dummies(df[\"v1\"])\n",
        "# print(df_one)\n",
        "  \n",
        "# display result\n",
        "df_two = pd.concat((df_one, df), axis=1)\n",
        "df_two = df_two.drop([\"v1\"], axis=1)\n",
        "df_two = df_two.drop([\"ham\"], axis=1)\n",
        "df1 = df_two.rename(columns={\"spam\": \"v1\"})\n",
        "df1.head()"
      ],
      "execution_count": 4,
      "outputs": [
        {
          "output_type": "execute_result",
          "data": {
            "text/html": [
              "<div>\n",
              "<style scoped>\n",
              "    .dataframe tbody tr th:only-of-type {\n",
              "        vertical-align: middle;\n",
              "    }\n",
              "\n",
              "    .dataframe tbody tr th {\n",
              "        vertical-align: top;\n",
              "    }\n",
              "\n",
              "    .dataframe thead th {\n",
              "        text-align: right;\n",
              "    }\n",
              "</style>\n",
              "<table border=\"1\" class=\"dataframe\">\n",
              "  <thead>\n",
              "    <tr style=\"text-align: right;\">\n",
              "      <th></th>\n",
              "      <th>v1</th>\n",
              "      <th>v2</th>\n",
              "      <th>Unnamed: 2</th>\n",
              "      <th>Unnamed: 3</th>\n",
              "      <th>Unnamed: 4</th>\n",
              "    </tr>\n",
              "  </thead>\n",
              "  <tbody>\n",
              "    <tr>\n",
              "      <th>0</th>\n",
              "      <td>0</td>\n",
              "      <td>Go until jurong point, crazy.. Available only ...</td>\n",
              "      <td>NaN</td>\n",
              "      <td>NaN</td>\n",
              "      <td>NaN</td>\n",
              "    </tr>\n",
              "    <tr>\n",
              "      <th>1</th>\n",
              "      <td>0</td>\n",
              "      <td>Ok lar... Joking wif u oni...</td>\n",
              "      <td>NaN</td>\n",
              "      <td>NaN</td>\n",
              "      <td>NaN</td>\n",
              "    </tr>\n",
              "    <tr>\n",
              "      <th>2</th>\n",
              "      <td>1</td>\n",
              "      <td>Free entry in 2 a wkly comp to win FA Cup fina...</td>\n",
              "      <td>NaN</td>\n",
              "      <td>NaN</td>\n",
              "      <td>NaN</td>\n",
              "    </tr>\n",
              "    <tr>\n",
              "      <th>3</th>\n",
              "      <td>0</td>\n",
              "      <td>U dun say so early hor... U c already then say...</td>\n",
              "      <td>NaN</td>\n",
              "      <td>NaN</td>\n",
              "      <td>NaN</td>\n",
              "    </tr>\n",
              "    <tr>\n",
              "      <th>4</th>\n",
              "      <td>0</td>\n",
              "      <td>Nah I don't think he goes to usf, he lives aro...</td>\n",
              "      <td>NaN</td>\n",
              "      <td>NaN</td>\n",
              "      <td>NaN</td>\n",
              "    </tr>\n",
              "  </tbody>\n",
              "</table>\n",
              "</div>"
            ],
            "text/plain": [
              "   v1                                                 v2  ... Unnamed: 3 Unnamed: 4\n",
              "0   0  Go until jurong point, crazy.. Available only ...  ...        NaN        NaN\n",
              "1   0                      Ok lar... Joking wif u oni...  ...        NaN        NaN\n",
              "2   1  Free entry in 2 a wkly comp to win FA Cup fina...  ...        NaN        NaN\n",
              "3   0  U dun say so early hor... U c already then say...  ...        NaN        NaN\n",
              "4   0  Nah I don't think he goes to usf, he lives aro...  ...        NaN        NaN\n",
              "\n",
              "[5 rows x 5 columns]"
            ]
          },
          "metadata": {
            "tags": []
          },
          "execution_count": 4
        }
      ]
    },
    {
      "cell_type": "code",
      "metadata": {
        "colab": {
          "base_uri": "https://localhost:8080/",
          "height": 204
        },
        "id": "GFPGRMtO9gcO",
        "outputId": "1b6878c6-09d3-4719-f979-7bf6f25e6c96"
      },
      "source": [
        "df1.drop(\"Unnamed: 3\",inplace=True,axis=1)\n",
        "df1.drop(\"Unnamed: 4\",inplace=True,axis=1)\n",
        "df1.drop(\"Unnamed: 2\",inplace=True,axis=1)\n",
        "\n",
        "df1.head()"
      ],
      "execution_count": 5,
      "outputs": [
        {
          "output_type": "execute_result",
          "data": {
            "text/html": [
              "<div>\n",
              "<style scoped>\n",
              "    .dataframe tbody tr th:only-of-type {\n",
              "        vertical-align: middle;\n",
              "    }\n",
              "\n",
              "    .dataframe tbody tr th {\n",
              "        vertical-align: top;\n",
              "    }\n",
              "\n",
              "    .dataframe thead th {\n",
              "        text-align: right;\n",
              "    }\n",
              "</style>\n",
              "<table border=\"1\" class=\"dataframe\">\n",
              "  <thead>\n",
              "    <tr style=\"text-align: right;\">\n",
              "      <th></th>\n",
              "      <th>v1</th>\n",
              "      <th>v2</th>\n",
              "    </tr>\n",
              "  </thead>\n",
              "  <tbody>\n",
              "    <tr>\n",
              "      <th>0</th>\n",
              "      <td>0</td>\n",
              "      <td>Go until jurong point, crazy.. Available only ...</td>\n",
              "    </tr>\n",
              "    <tr>\n",
              "      <th>1</th>\n",
              "      <td>0</td>\n",
              "      <td>Ok lar... Joking wif u oni...</td>\n",
              "    </tr>\n",
              "    <tr>\n",
              "      <th>2</th>\n",
              "      <td>1</td>\n",
              "      <td>Free entry in 2 a wkly comp to win FA Cup fina...</td>\n",
              "    </tr>\n",
              "    <tr>\n",
              "      <th>3</th>\n",
              "      <td>0</td>\n",
              "      <td>U dun say so early hor... U c already then say...</td>\n",
              "    </tr>\n",
              "    <tr>\n",
              "      <th>4</th>\n",
              "      <td>0</td>\n",
              "      <td>Nah I don't think he goes to usf, he lives aro...</td>\n",
              "    </tr>\n",
              "  </tbody>\n",
              "</table>\n",
              "</div>"
            ],
            "text/plain": [
              "   v1                                                 v2\n",
              "0   0  Go until jurong point, crazy.. Available only ...\n",
              "1   0                      Ok lar... Joking wif u oni...\n",
              "2   1  Free entry in 2 a wkly comp to win FA Cup fina...\n",
              "3   0  U dun say so early hor... U c already then say...\n",
              "4   0  Nah I don't think he goes to usf, he lives aro..."
            ]
          },
          "metadata": {
            "tags": []
          },
          "execution_count": 5
        }
      ]
    },
    {
      "cell_type": "markdown",
      "metadata": {
        "id": "DAm9uTni9gcR"
      },
      "source": [
        "<h3>Cleaning and Preparing text</h3>\n",
        "<ul>\n",
        "    <li>Cleaning links</li>\n",
        "    <li>Cleaning digits except alphabetical and numeric characters</li>\n",
        "    <li>Lowering</li>\n",
        "    <li>Tokenising</li>\n",
        "    <li>Lemmatizing and Removing Stop words</li>\n",
        "    <li>Bag of words</li>\n",
        "</ul>"
      ]
    },
    {
      "cell_type": "markdown",
      "metadata": {
        "id": "WO3g06wZ9gcR"
      },
      "source": [
        "<h3>Cleaning links</h3>\n",
        "<p>There are links in the mail such as: <a>https://google.com.tr</a>. If we don't remove them they can cause problems.</p>\n",
        "<p>To clean the following links, we can use Regex(regular) expression.A regular expression is a special sequence of characters that helps you match or find other strings or sets of strings, using a specialized syntax held in a pattern. Regular expressions are widely used in UNIX world. </p>"
      ]
    },
    {
      "cell_type": "code",
      "metadata": {
        "colab": {
          "base_uri": "https://localhost:8080/"
        },
        "id": "KNjvG-G39gcR",
        "outputId": "0ecbb30b-f955-4743-a9a6-91e4726d6df8"
      },
      "source": [
        "x = df1[\"v2\"]\n",
        "x_clnd_link = [re.sub(r\"http\\S+\", \"\", text) for text in x]\n",
        "\n",
        "print(x_clnd_link[0])"
      ],
      "execution_count": 6,
      "outputs": [
        {
          "output_type": "stream",
          "text": [
            "Go until jurong point, crazy.. Available only in bugis n great world la e buffet... Cine there got amore wat...\n"
          ],
          "name": "stdout"
        }
      ]
    },
    {
      "cell_type": "markdown",
      "metadata": {
        "id": "Yqeur_GT9gcS"
      },
      "source": [
        "<h3>Cleaning digits except alphabetical and numeric characters</h3>\n",
        "<p>As you can see from the text above, there are a lot of digits such as <b>*</b> and <b>:</b> They don't have a meaning, so we should remove them from the texts.\n",
        "\n",
        "In order to clean unrelevant digits we'll use regex again.</p>"
      ]
    },
    {
      "cell_type": "code",
      "metadata": {
        "id": "HyCyMZF09gcS"
      },
      "source": [
        "pattern = \"[^a-zA-Z0-9]\""
      ],
      "execution_count": 7,
      "outputs": []
    },
    {
      "cell_type": "markdown",
      "metadata": {
        "id": "dvd1_8DL9gcS"
      },
      "source": [
        "\n",
        "\n",
        "<p>-This helps to remove special characters</p>"
      ]
    },
    {
      "cell_type": "code",
      "metadata": {
        "colab": {
          "base_uri": "https://localhost:8080/"
        },
        "id": "QRpRpQmh9gcT",
        "outputId": "589efa7b-2ad1-4c36-b862-9b595472fabf"
      },
      "source": [
        "#This means to replace all the characters following the pattern\n",
        "x_cleaned = [re.sub(pattern, \" \",text) for text in x_clnd_link]\n",
        "\n",
        "print(x_cleaned[0])"
      ],
      "execution_count": 8,
      "outputs": [
        {
          "output_type": "stream",
          "text": [
            "Go until jurong point  crazy   Available only in bugis n great world la e buffet    Cine there got amore wat   \n"
          ],
          "name": "stdout"
        }
      ]
    },
    {
      "cell_type": "markdown",
      "metadata": {
        "id": "8M8v_ABR9gcT"
      },
      "source": [
        "<p><b>Now let's lower the texts, I won't add a section for it because it is a familiar process from the vanilla python.\n",
        "\n",
        "</b></p>"
      ]
    },
    {
      "cell_type": "code",
      "metadata": {
        "colab": {
          "base_uri": "https://localhost:8080/"
        },
        "id": "yzN98oRk9gcU",
        "outputId": "fcc602d9-9491-4640-95b1-6f0f316a251e"
      },
      "source": [
        "x_lowered = [text.lower() for text in x_cleaned]\n",
        "\n",
        "print(x_lowered[0])"
      ],
      "execution_count": 9,
      "outputs": [
        {
          "output_type": "stream",
          "text": [
            "go until jurong point  crazy   available only in bugis n great world la e buffet    cine there got amore wat   \n"
          ],
          "name": "stdout"
        }
      ]
    },
    {
      "cell_type": "markdown",
      "metadata": {
        "id": "1ogtrt9S9gcU"
      },
      "source": [
        "<h3>Tokeninzing</h3>\n",
        "<p>In order to create a feature that shows whether the text includes the word or not, we need to split words into lists, we can do this using pythonString.split() but there is a better function to do this in NLTK.\n",
        "\n",
        "Let's tokenize the texts.</p>"
      ]
    },
    {
      "cell_type": "code",
      "metadata": {
        "colab": {
          "base_uri": "https://localhost:8080/"
        },
        "id": "KCwfjHanBmpp",
        "outputId": "b92332be-84ba-4eb8-f048-c8bb943d0093"
      },
      "source": [
        "nltk.download('punkt')"
      ],
      "execution_count": 10,
      "outputs": [
        {
          "output_type": "stream",
          "text": [
            "[nltk_data] Downloading package punkt to /root/nltk_data...\n",
            "[nltk_data]   Unzipping tokenizers/punkt.zip.\n"
          ],
          "name": "stdout"
        },
        {
          "output_type": "execute_result",
          "data": {
            "text/plain": [
              "True"
            ]
          },
          "metadata": {
            "tags": []
          },
          "execution_count": 10
        }
      ]
    },
    {
      "cell_type": "code",
      "metadata": {
        "colab": {
          "base_uri": "https://localhost:8080/"
        },
        "id": "pTd6V_pu9gcU",
        "outputId": "616a4cf0-92d5-4249-a716-a7e17f180bf7"
      },
      "source": [
        "x_tokenized = [nltk.word_tokenize(text) for text in x_lowered]\n",
        "\n",
        "print(x_tokenized[0])"
      ],
      "execution_count": 11,
      "outputs": [
        {
          "output_type": "stream",
          "text": [
            "['go', 'until', 'jurong', 'point', 'crazy', 'available', 'only', 'in', 'bugis', 'n', 'great', 'world', 'la', 'e', 'buffet', 'cine', 'there', 'got', 'amore', 'wat']\n"
          ],
          "name": "stdout"
        }
      ]
    },
    {
      "cell_type": "markdown",
      "metadata": {
        "id": "oMHutsri9gcV"
      },
      "source": [
        "<p>- Each sentence turned into a list that contains words.</p>"
      ]
    },
    {
      "cell_type": "markdown",
      "metadata": {
        "id": "KGRlZUQW9gcV"
      },
      "source": [
        "<h3>Lemmatizing and Removing Stopwords</h3>\n",
        "<p>In natural languages, words can get additional so each word can have a lot of versions, sometimes these additionals may give tips to us but in filtering spams, we don't need them.There are two ways to remove additionals: <b>Stemmers and Lemmatizers</b> </p>\n",
        "\n",
        "<h3>Stemmers</h3>\n",
        "<p>Stemmers are rule based weak tools, they remove additionals using rules but in natural languages everything does not follow the rules. Also It cant change tenses, for instance lemmatizers convert learnt into learn, stemmers don't touch them. Although stemmers are weak they are fast and although so many natural language do not have lemmatizers most of them have stemmers.</p>\n",
        "\n",
        "<h3>Lemmatizers</h3>\n",
        "<p>Lemmatizers uses dictionaries to remove additionals and change tenses. They work good but developing a lemmatizer is hard and needs a lot of resource, so they are rare. Also lemmatizers use dictionaries, and that causes lemmatizers being slow.\n",
        "\n",
        "In this kernel we'll use NLTK's WordNet Lemmatizer. WordNet is a big dictionary.</p>\n"
      ]
    },
    {
      "cell_type": "code",
      "metadata": {
        "colab": {
          "base_uri": "https://localhost:8080/"
        },
        "id": "f30v-5Pi9gcW",
        "outputId": "4662aaed-c074-4862-98ae-0a10f87aee03"
      },
      "source": [
        "nltk.download('wordnet')\n",
        "from nltk.stem import WordNetLemmatizer\n",
        "lemma = WordNetLemmatizer()"
      ],
      "execution_count": 12,
      "outputs": [
        {
          "output_type": "stream",
          "text": [
            "[nltk_data] Downloading package wordnet to /root/nltk_data...\n",
            "[nltk_data]   Unzipping corpora/wordnet.zip.\n"
          ],
          "name": "stdout"
        }
      ]
    },
    {
      "cell_type": "markdown",
      "metadata": {
        "id": "rDj7cMWL9gcW"
      },
      "source": [
        "<p>- Now, we can easily use lemmatizer</p>"
      ]
    },
    {
      "cell_type": "code",
      "metadata": {
        "colab": {
          "base_uri": "https://localhost:8080/"
        },
        "id": "syb3I_bK9gcW",
        "outputId": "58485193-62a1-4752-deef-ac06f2200117"
      },
      "source": [
        "words = [\"pets\",\"bats\",\"cats\",\"removed\",\"beers\",\"went\",\"stopped\",\"studied\"]\n",
        "for word in words:\n",
        "    print(lemma.lemmatize(word), end=\" \")"
      ],
      "execution_count": 13,
      "outputs": [
        {
          "output_type": "stream",
          "text": [
            "pet bat cat removed beer went stopped studied "
          ],
          "name": "stdout"
        }
      ]
    },
    {
      "cell_type": "markdown",
      "metadata": {
        "id": "wopUxP7V9gcX"
      },
      "source": [
        "<p>- We can now lemmatize our tokenized text</p>"
      ]
    },
    {
      "cell_type": "code",
      "metadata": {
        "colab": {
          "base_uri": "https://localhost:8080/"
        },
        "id": "jreZaZwW9gcX",
        "outputId": "13e6d1cc-a21c-4b0d-c3d4-a5714fe1c77c"
      },
      "source": [
        "x_lemmatized = [[lemma.lemmatize(word) for word in text] for text in x_tokenized]\n",
        "\n",
        "print(x_lemmatized[0])"
      ],
      "execution_count": 14,
      "outputs": [
        {
          "output_type": "stream",
          "text": [
            "['go', 'until', 'jurong', 'point', 'crazy', 'available', 'only', 'in', 'bugis', 'n', 'great', 'world', 'la', 'e', 'buffet', 'cine', 'there', 'got', 'amore', 'wat']\n"
          ],
          "name": "stdout"
        }
      ]
    },
    {
      "cell_type": "markdown",
      "metadata": {
        "id": "S-YtFBaD9gcX"
      },
      "source": [
        "<h3>Removing Stopwords</h3>\n",
        "<p>In natural languages there are words that not have a special meaning such as <b>will</b>, it is always a tense and such as <b>and,or</b>\n",
        "\n",
        "In order to win from time and improve the model we should remove them. There are several ways to remove them but in this kernel we'll use stopwords corpora of NLTK. There are stopwords of 11 natural language in there.</p>"
      ]
    },
    {
      "cell_type": "code",
      "metadata": {
        "colab": {
          "base_uri": "https://localhost:8080/"
        },
        "id": "b42t-ibv9gcY",
        "outputId": "4adcc529-62ed-4aa8-9973-884cded0bd7f"
      },
      "source": [
        "import nltk\n",
        "nltk.download('stopwords')"
      ],
      "execution_count": 15,
      "outputs": [
        {
          "output_type": "stream",
          "text": [
            "[nltk_data] Downloading package stopwords to /root/nltk_data...\n",
            "[nltk_data]   Unzipping corpora/stopwords.zip.\n"
          ],
          "name": "stdout"
        },
        {
          "output_type": "execute_result",
          "data": {
            "text/plain": [
              "True"
            ]
          },
          "metadata": {
            "tags": []
          },
          "execution_count": 15
        }
      ]
    },
    {
      "cell_type": "code",
      "metadata": {
        "colab": {
          "base_uri": "https://localhost:8080/"
        },
        "id": "t4u1IEWO9gcY",
        "outputId": "da4e9771-6443-403c-f54e-55aabdb219f2"
      },
      "source": [
        "stopwords = nltk.corpus.stopwords.words('english')\n",
        "x_prepared = [[word for word in text if word not in stopwords] for text in x_lemmatized]\n",
        "\n",
        "print(x_prepared[0])"
      ],
      "execution_count": 16,
      "outputs": [
        {
          "output_type": "stream",
          "text": [
            "['go', 'jurong', 'point', 'crazy', 'available', 'bugis', 'n', 'great', 'world', 'la', 'e', 'buffet', 'cine', 'got', 'amore', 'wat']\n"
          ],
          "name": "stdout"
        }
      ]
    },
    {
      "cell_type": "markdown",
      "metadata": {
        "id": "-uuR49J69gcZ"
      },
      "source": [
        "<p>Let's see the unique words of our dataset</p>"
      ]
    },
    {
      "cell_type": "markdown",
      "metadata": {
        "id": "Pz-ilfjA9gcZ"
      },
      "source": [
        "<h3>Bag of words</h3>\n",
        "<p>And we came to the final process of this section: Bag of Words. Bag of Words is an easy approach to make sense of texts.</p>"
      ]
    },
    {
      "cell_type": "code",
      "metadata": {
        "id": "6zpyVXsv9gca"
      },
      "source": [
        "vectorizer = CountVectorizer(max_features=20000)\n",
        "x = vectorizer.fit_transform([\" \".join(text) for text in x_prepared]).toarray()"
      ],
      "execution_count": 17,
      "outputs": []
    },
    {
      "cell_type": "code",
      "metadata": {
        "colab": {
          "base_uri": "https://localhost:8080/"
        },
        "id": "stGhXkVq9gca",
        "outputId": "3ced7a08-a1f5-428d-a66b-aea2cb46bbb9"
      },
      "source": [
        "x.shape"
      ],
      "execution_count": 18,
      "outputs": [
        {
          "output_type": "execute_result",
          "data": {
            "text/plain": [
              "(5572, 7935)"
            ]
          },
          "metadata": {
            "tags": []
          },
          "execution_count": 18
        }
      ]
    },
    {
      "cell_type": "code",
      "metadata": {
        "id": "-b3Ht2289gca"
      },
      "source": [
        "x_train,x_test,y_train,y_test = train_test_split(x_prepared,np.asarray(df1[\"v1\"]),random_state=42,test_size=0.2)"
      ],
      "execution_count": 19,
      "outputs": []
    },
    {
      "cell_type": "code",
      "metadata": {
        "id": "R98z8LFYvT_t"
      },
      "source": [
        ""
      ],
      "execution_count": 19,
      "outputs": []
    },
    {
      "cell_type": "code",
      "metadata": {
        "colab": {
          "base_uri": "https://localhost:8080/"
        },
        "id": "in4xhtv9m5jN",
        "outputId": "da454e57-0d7e-4f25-a1c0-544fe6f6ac29"
      },
      "source": [
        "y_train"
      ],
      "execution_count": 20,
      "outputs": [
        {
          "output_type": "execute_result",
          "data": {
            "text/plain": [
              "array([0, 1, 0, ..., 0, 0, 0], dtype=uint8)"
            ]
          },
          "metadata": {
            "tags": []
          },
          "execution_count": 20
        }
      ]
    },
    {
      "cell_type": "markdown",
      "metadata": {
        "id": "8_3UN_teJg2O"
      },
      "source": [
        "# Play around with Word2vector"
      ]
    },
    {
      "cell_type": "code",
      "metadata": {
        "colab": {
          "base_uri": "https://localhost:8080/"
        },
        "id": "PVVMmRqJATj5",
        "outputId": "6e9a1798-d941-4f13-d0b8-4d538a27e1e1"
      },
      "source": [
        "!wget http://nlp.stanford.edu/data/glove.6B.zip"
      ],
      "execution_count": 21,
      "outputs": [
        {
          "output_type": "stream",
          "text": [
            "--2021-05-19 08:58:15--  http://nlp.stanford.edu/data/glove.6B.zip\n",
            "Resolving nlp.stanford.edu (nlp.stanford.edu)... 171.64.67.140\n",
            "Connecting to nlp.stanford.edu (nlp.stanford.edu)|171.64.67.140|:80... connected.\n",
            "HTTP request sent, awaiting response... 302 Found\n",
            "Location: https://nlp.stanford.edu/data/glove.6B.zip [following]\n",
            "--2021-05-19 08:58:15--  https://nlp.stanford.edu/data/glove.6B.zip\n",
            "Connecting to nlp.stanford.edu (nlp.stanford.edu)|171.64.67.140|:443... connected.\n",
            "HTTP request sent, awaiting response... 301 Moved Permanently\n",
            "Location: http://downloads.cs.stanford.edu/nlp/data/glove.6B.zip [following]\n",
            "--2021-05-19 08:58:15--  http://downloads.cs.stanford.edu/nlp/data/glove.6B.zip\n",
            "Resolving downloads.cs.stanford.edu (downloads.cs.stanford.edu)... 171.64.64.22\n",
            "Connecting to downloads.cs.stanford.edu (downloads.cs.stanford.edu)|171.64.64.22|:80... connected.\n",
            "HTTP request sent, awaiting response... 200 OK\n",
            "Length: 862182613 (822M) [application/zip]\n",
            "Saving to: ‘glove.6B.zip’\n",
            "\n",
            "glove.6B.zip        100%[===================>] 822.24M  5.21MB/s    in 2m 40s  \n",
            "\n",
            "2021-05-19 09:00:55 (5.14 MB/s) - ‘glove.6B.zip’ saved [862182613/862182613]\n",
            "\n"
          ],
          "name": "stdout"
        }
      ]
    },
    {
      "cell_type": "code",
      "metadata": {
        "colab": {
          "base_uri": "https://localhost:8080/"
        },
        "id": "vTfx9vpNCaTy",
        "outputId": "abcb953c-ef2e-4286-94de-6a196b0738fe"
      },
      "source": [
        "!unzip glove.6B.zip"
      ],
      "execution_count": 22,
      "outputs": [
        {
          "output_type": "stream",
          "text": [
            "Archive:  glove.6B.zip\n",
            "  inflating: glove.6B.50d.txt        \n",
            "  inflating: glove.6B.100d.txt       \n",
            "  inflating: glove.6B.200d.txt       \n",
            "  inflating: glove.6B.300d.txt       \n"
          ],
          "name": "stdout"
        }
      ]
    },
    {
      "cell_type": "code",
      "metadata": {
        "colab": {
          "base_uri": "https://localhost:8080/"
        },
        "id": "mFqomk11CveF",
        "outputId": "9eeca19e-c3a9-4203-96d7-c0762eda604e"
      },
      "source": [
        "!python -m gensim.scripts.glove2word2vec -i glove.6B.300d.txt -o glove.6B.300d.word2vec.txt"
      ],
      "execution_count": 23,
      "outputs": [
        {
          "output_type": "stream",
          "text": [
            "/usr/lib/python3.7/runpy.py:125: RuntimeWarning: 'gensim.scripts.glove2word2vec' found in sys.modules after import of package 'gensim.scripts', but prior to execution of 'gensim.scripts.glove2word2vec'; this may result in unpredictable behaviour\n",
            "  warn(RuntimeWarning(msg))\n",
            "2021-05-19 09:01:29,277 - glove2word2vec - INFO - running /usr/local/lib/python3.7/dist-packages/gensim/scripts/glove2word2vec.py -i glove.6B.300d.txt -o glove.6B.300d.word2vec.txt\n",
            "2021-05-19 09:01:29,828 - glove2word2vec - INFO - converting 400000 vectors from glove.6B.300d.txt to glove.6B.300d.word2vec.txt\n",
            "2021-05-19 09:01:50,256 - glove2word2vec - INFO - Converted model with 400000 vectors and 300 dimensions\n"
          ],
          "name": "stdout"
        }
      ]
    },
    {
      "cell_type": "code",
      "metadata": {
        "colab": {
          "base_uri": "https://localhost:8080/"
        },
        "id": "DjWXf1lfC2t4",
        "outputId": "ccf935bb-da03-4ae6-cf36-4d6d90eb97e1"
      },
      "source": [
        "import nltk\n",
        "nltk.download('punkt')\n",
        "nltk.download('wordnet')"
      ],
      "execution_count": 24,
      "outputs": [
        {
          "output_type": "stream",
          "text": [
            "[nltk_data] Downloading package punkt to /root/nltk_data...\n",
            "[nltk_data]   Package punkt is already up-to-date!\n",
            "[nltk_data] Downloading package wordnet to /root/nltk_data...\n",
            "[nltk_data]   Package wordnet is already up-to-date!\n"
          ],
          "name": "stdout"
        },
        {
          "output_type": "execute_result",
          "data": {
            "text/plain": [
              "True"
            ]
          },
          "metadata": {
            "tags": []
          },
          "execution_count": 24
        }
      ]
    },
    {
      "cell_type": "code",
      "metadata": {
        "id": "TZkuozesJg2Q"
      },
      "source": [
        "from gensim.models import KeyedVectors\n",
        "\n",
        "w2v = KeyedVectors.load_word2vec_format('glove.6B.300d.word2vec.txt',binary=False)"
      ],
      "execution_count": 25,
      "outputs": []
    },
    {
      "cell_type": "code",
      "metadata": {
        "id": "gIfT1_6dJg2S",
        "colab": {
          "base_uri": "https://localhost:8080/"
        },
        "outputId": "370c5900-dcf2-435f-fbba-500ad90a863a"
      },
      "source": [
        "w2v.most_similar('king')"
      ],
      "execution_count": 26,
      "outputs": [
        {
          "output_type": "execute_result",
          "data": {
            "text/plain": [
              "[('queen', 0.6336469054222107),\n",
              " ('prince', 0.619662344455719),\n",
              " ('monarch', 0.5899620652198792),\n",
              " ('kingdom', 0.5791267156600952),\n",
              " ('throne', 0.5606487989425659),\n",
              " ('ii', 0.5562329888343811),\n",
              " ('iii', 0.5503199100494385),\n",
              " ('crown', 0.5224862694740295),\n",
              " ('reign', 0.521735429763794),\n",
              " ('kings', 0.5066401362419128)]"
            ]
          },
          "metadata": {
            "tags": []
          },
          "execution_count": 26
        }
      ]
    },
    {
      "cell_type": "code",
      "metadata": {
        "id": "gniRm08jJg2U",
        "colab": {
          "base_uri": "https://localhost:8080/"
        },
        "outputId": "e7147e18-d737-4d84-e779-a09b9ac343b4"
      },
      "source": [
        "# King + Woman - Man = ?\n",
        "w2v.most_similar(['king','woman'],negative=['man'],topn=1)"
      ],
      "execution_count": 27,
      "outputs": [
        {
          "output_type": "execute_result",
          "data": {
            "text/plain": [
              "[('queen', 0.6713277101516724)]"
            ]
          },
          "metadata": {
            "tags": []
          },
          "execution_count": 27
        }
      ]
    },
    {
      "cell_type": "code",
      "metadata": {
        "id": "SLaROjMvJg2X",
        "colab": {
          "base_uri": "https://localhost:8080/",
          "height": 89
        },
        "outputId": "c1323884-e07b-43ac-c69d-58b70f160351"
      },
      "source": [
        "w2v.doesnt_match(\"england china vietnam laos\".split())"
      ],
      "execution_count": 28,
      "outputs": [
        {
          "output_type": "stream",
          "text": [
            "/usr/local/lib/python3.7/dist-packages/gensim/models/keyedvectors.py:895: FutureWarning: arrays to stack must be passed as a \"sequence\" type such as list or tuple. Support for non-sequence iterables such as generators is deprecated as of NumPy 1.16 and will raise an error in the future.\n",
            "  vectors = vstack(self.word_vec(word, use_norm=True) for word in used_words).astype(REAL)\n"
          ],
          "name": "stderr"
        },
        {
          "output_type": "execute_result",
          "data": {
            "application/vnd.google.colaboratory.intrinsic+json": {
              "type": "string"
            },
            "text/plain": [
              "'england'"
            ]
          },
          "metadata": {
            "tags": []
          },
          "execution_count": 28
        }
      ]
    },
    {
      "cell_type": "markdown",
      "metadata": {
        "id": "U7sRMbhKJg2d"
      },
      "source": [
        "## Use Glove Pretrain"
      ]
    },
    {
      "cell_type": "code",
      "metadata": {
        "id": "OsHRosFGJg2e"
      },
      "source": [
        "import matplotlib.pyplot as plt\n",
        "from keras.preprocessing.text import Tokenizer\n",
        "from keras.preprocessing.sequence import pad_sequences\n",
        "from keras.layers import Dense, Input, LSTM, Embedding, Dropout,GRU, Activation ,Conv1D\n",
        "from keras.layers import Bidirectional, GlobalMaxPool1D\n",
        "from keras.models import Model\n",
        "from keras import initializers, regularizers, constraints, optimizers, layers\n"
      ],
      "execution_count": 29,
      "outputs": []
    },
    {
      "cell_type": "code",
      "metadata": {
        "id": "oBwaw0D6Jg2f"
      },
      "source": [
        "maxlen = 2000\n",
        "max_features = 7098"
      ],
      "execution_count": 30,
      "outputs": []
    },
    {
      "cell_type": "code",
      "metadata": {
        "id": "6v4x8c3GJg2h"
      },
      "source": [
        "EMBEDDING_FILE = 'glove.6B.300d.txt'\n",
        "tokenizer = Tokenizer(num_words=max_features)"
      ],
      "execution_count": 31,
      "outputs": []
    },
    {
      "cell_type": "code",
      "metadata": {
        "id": "nOlphmFrJg2q"
      },
      "source": [
        "tokenizer.fit_on_texts(x_train)"
      ],
      "execution_count": 32,
      "outputs": []
    },
    {
      "cell_type": "code",
      "metadata": {
        "id": "zFgjFkSRJg2r",
        "colab": {
          "base_uri": "https://localhost:8080/"
        },
        "outputId": "6eec25ca-d2d8-4c85-e279-1287eaca4944"
      },
      "source": [
        "x_train_features = np.array(tokenizer.texts_to_sequences(x_train))\n",
        "x_test_features = np.array(tokenizer.texts_to_sequences(x_test))\n",
        "\n",
        "x_train_features = pad_sequences(x_train_features,maxlen=maxlen)\n",
        "x_test_features = pad_sequences(x_test_features,maxlen=maxlen)"
      ],
      "execution_count": 33,
      "outputs": [
        {
          "output_type": "stream",
          "text": [
            "/usr/local/lib/python3.7/dist-packages/ipykernel_launcher.py:1: VisibleDeprecationWarning: Creating an ndarray from ragged nested sequences (which is a list-or-tuple of lists-or-tuples-or ndarrays with different lengths or shapes) is deprecated. If you meant to do this, you must specify 'dtype=object' when creating the ndarray\n",
            "  \"\"\"Entry point for launching an IPython kernel.\n",
            "/usr/local/lib/python3.7/dist-packages/ipykernel_launcher.py:2: VisibleDeprecationWarning: Creating an ndarray from ragged nested sequences (which is a list-or-tuple of lists-or-tuples-or ndarrays with different lengths or shapes) is deprecated. If you meant to do this, you must specify 'dtype=object' when creating the ndarray\n",
            "  \n"
          ],
          "name": "stderr"
        }
      ]
    },
    {
      "cell_type": "code",
      "metadata": {
        "id": "crmVKUQNJg2t",
        "colab": {
          "base_uri": "https://localhost:8080/"
        },
        "outputId": "5bb3e8f1-8425-4a21-93f6-8dd35cde17c2"
      },
      "source": [
        "def get_coefs(word,*arr): return word, np.asarray(arr, dtype='float32')\n",
        "embeddings_index = dict(get_coefs(*o.split(\" \")) for o in open(EMBEDDING_FILE))\n",
        "\n",
        "all_embs = np.stack(embeddings_index.values())\n",
        "emb_mean,emb_std = all_embs.mean(), all_embs.std()\n",
        "embed_size = all_embs.shape[1]"
      ],
      "execution_count": 34,
      "outputs": [
        {
          "output_type": "stream",
          "text": [
            "/usr/local/lib/python3.7/dist-packages/IPython/core/interactiveshell.py:2822: FutureWarning: arrays to stack must be passed as a \"sequence\" type such as list or tuple. Support for non-sequence iterables such as generators is deprecated as of NumPy 1.16 and will raise an error in the future.\n",
            "  if self.run_code(code, result):\n"
          ],
          "name": "stderr"
        }
      ]
    },
    {
      "cell_type": "code",
      "metadata": {
        "id": "m9ZXFPTgJg2x",
        "colab": {
          "base_uri": "https://localhost:8080/"
        },
        "outputId": "8ba7cb42-32f4-4446-e5e7-7cc9544b0047"
      },
      "source": [
        "word_index = tokenizer.word_index\n",
        "nb_words = min(max_features, len(word_index))\n",
        "embedding_matrix = np.random.normal(emb_mean, emb_std, (nb_words, embed_size))\n",
        "for word, i in word_index.items():\n",
        "    if i >= max_features: continue\n",
        "    embedding_vector = embeddings_index.get(word)\n",
        "    if embedding_vector is not None: embedding_matrix[i] = embedding_vector\n",
        "\n",
        "inp = Input(shape=(maxlen,))\n",
        "x = Embedding(max_features, embed_size, weights=[embedding_matrix])(inp)\n",
        "x = Bidirectional(GRU(64, return_sequences=True))(x)\n",
        "x = GlobalMaxPool1D()(x)\n",
        "x = Dense(16, activation=\"relu\")(x)\n",
        "x = Dropout(0.1)(x)\n",
        "x = Dense(1, activation=\"sigmoid\")(x)\n",
        "model = Model(inputs=inp, outputs=x)\n",
        "model.compile(loss='binary_crossentropy', optimizer='adam', metrics=['accuracy'])\n",
        "print(model.summary())"
      ],
      "execution_count": 35,
      "outputs": [
        {
          "output_type": "stream",
          "text": [
            "Model: \"model\"\n",
            "_________________________________________________________________\n",
            "Layer (type)                 Output Shape              Param #   \n",
            "=================================================================\n",
            "input_1 (InputLayer)         [(None, 2000)]            0         \n",
            "_________________________________________________________________\n",
            "embedding (Embedding)        (None, 2000, 300)         2129400   \n",
            "_________________________________________________________________\n",
            "bidirectional (Bidirectional (None, 2000, 128)         140544    \n",
            "_________________________________________________________________\n",
            "global_max_pooling1d (Global (None, 128)               0         \n",
            "_________________________________________________________________\n",
            "dense (Dense)                (None, 16)                2064      \n",
            "_________________________________________________________________\n",
            "dropout (Dropout)            (None, 16)                0         \n",
            "_________________________________________________________________\n",
            "dense_1 (Dense)              (None, 1)                 17        \n",
            "=================================================================\n",
            "Total params: 2,272,025\n",
            "Trainable params: 2,272,025\n",
            "Non-trainable params: 0\n",
            "_________________________________________________________________\n",
            "None\n"
          ],
          "name": "stdout"
        }
      ]
    },
    {
      "cell_type": "code",
      "metadata": {
        "id": "SZYY8gJmJg20"
      },
      "source": [
        "model.layers[1].trainable = False"
      ],
      "execution_count": 36,
      "outputs": []
    },
    {
      "cell_type": "code",
      "metadata": {
        "colab": {
          "base_uri": "https://localhost:8080/"
        },
        "id": "J_pi-jrZhrwQ",
        "outputId": "1eed71d0-bbaa-40a5-eb39-18af4cce2b11"
      },
      "source": [
        "print(x_train_features)"
      ],
      "execution_count": 37,
      "outputs": [
        {
          "output_type": "stream",
          "text": [
            "[[   0    0    0 ...  219  264 1746]\n",
            " [   0    0    0 ...  124  865  146]\n",
            " [   0    0    0 ...  254 3368 3369]\n",
            " ...\n",
            " [   0    0    0 ...  543  153 1807]\n",
            " [   0    0    0 ... 1470  996  171]\n",
            " [   0    0    0 ...   82   26   65]]\n"
          ],
          "name": "stdout"
        }
      ]
    },
    {
      "cell_type": "code",
      "metadata": {
        "id": "Hon62hmIJg21",
        "colab": {
          "base_uri": "https://localhost:8080/"
        },
        "outputId": "dc246d76-54cd-412c-a785-cf794ebe43e3"
      },
      "source": [
        "history = model.fit(x_train_features,y_train, batch_size=512, epochs=20, \n",
        "          validation_data=(x_test_features, y_test))"
      ],
      "execution_count": 38,
      "outputs": [
        {
          "output_type": "stream",
          "text": [
            "Epoch 1/20\n",
            "9/9 [==============================] - 46s 1s/step - loss: 0.6234 - accuracy: 0.5910 - val_loss: 0.3375 - val_accuracy: 0.8655\n",
            "Epoch 2/20\n",
            "9/9 [==============================] - 10s 1s/step - loss: 0.3459 - accuracy: 0.8652 - val_loss: 0.2954 - val_accuracy: 0.8655\n",
            "Epoch 3/20\n",
            "9/9 [==============================] - 10s 1s/step - loss: 0.2952 - accuracy: 0.8676 - val_loss: 0.2259 - val_accuracy: 0.8655\n",
            "Epoch 4/20\n",
            "9/9 [==============================] - 10s 1s/step - loss: 0.2287 - accuracy: 0.8765 - val_loss: 0.1644 - val_accuracy: 0.9623\n",
            "Epoch 5/20\n",
            "9/9 [==============================] - 10s 1s/step - loss: 0.1578 - accuracy: 0.9658 - val_loss: 0.1183 - val_accuracy: 0.9677\n",
            "Epoch 6/20\n",
            "9/9 [==============================] - 10s 1s/step - loss: 0.1044 - accuracy: 0.9723 - val_loss: 0.0866 - val_accuracy: 0.9695\n",
            "Epoch 7/20\n",
            "9/9 [==============================] - 10s 1s/step - loss: 0.0768 - accuracy: 0.9818 - val_loss: 0.0731 - val_accuracy: 0.9767\n",
            "Epoch 8/20\n",
            "9/9 [==============================] - 10s 1s/step - loss: 0.0568 - accuracy: 0.9878 - val_loss: 0.0660 - val_accuracy: 0.9785\n",
            "Epoch 9/20\n",
            "9/9 [==============================] - 10s 1s/step - loss: 0.0476 - accuracy: 0.9925 - val_loss: 0.0631 - val_accuracy: 0.9821\n",
            "Epoch 10/20\n",
            "9/9 [==============================] - 10s 1s/step - loss: 0.0262 - accuracy: 0.9965 - val_loss: 0.0556 - val_accuracy: 0.9857\n",
            "Epoch 11/20\n",
            "9/9 [==============================] - 10s 1s/step - loss: 0.0202 - accuracy: 0.9980 - val_loss: 0.0532 - val_accuracy: 0.9865\n",
            "Epoch 12/20\n",
            "9/9 [==============================] - 10s 1s/step - loss: 0.0165 - accuracy: 0.9988 - val_loss: 0.0633 - val_accuracy: 0.9848\n",
            "Epoch 13/20\n",
            "9/9 [==============================] - 10s 1s/step - loss: 0.0121 - accuracy: 0.9990 - val_loss: 0.0590 - val_accuracy: 0.9865\n",
            "Epoch 14/20\n",
            "9/9 [==============================] - 10s 1s/step - loss: 0.0083 - accuracy: 0.9990 - val_loss: 0.0574 - val_accuracy: 0.9883\n",
            "Epoch 15/20\n",
            "9/9 [==============================] - 10s 1s/step - loss: 0.0062 - accuracy: 0.9996 - val_loss: 0.0703 - val_accuracy: 0.9848\n",
            "Epoch 16/20\n",
            "9/9 [==============================] - 10s 1s/step - loss: 0.0055 - accuracy: 0.9987 - val_loss: 0.0624 - val_accuracy: 0.9874\n",
            "Epoch 17/20\n",
            "9/9 [==============================] - 10s 1s/step - loss: 0.0028 - accuracy: 0.9998 - val_loss: 0.0682 - val_accuracy: 0.9874\n",
            "Epoch 18/20\n",
            "9/9 [==============================] - 10s 1s/step - loss: 0.0023 - accuracy: 1.0000 - val_loss: 0.0802 - val_accuracy: 0.9848\n",
            "Epoch 19/20\n",
            "9/9 [==============================] - 10s 1s/step - loss: 0.0017 - accuracy: 1.0000 - val_loss: 0.0767 - val_accuracy: 0.9848\n",
            "Epoch 20/20\n",
            "9/9 [==============================] - 10s 1s/step - loss: 0.0015 - accuracy: 1.0000 - val_loss: 0.0767 - val_accuracy: 0.9857\n"
          ],
          "name": "stdout"
        }
      ]
    },
    {
      "cell_type": "code",
      "metadata": {
        "id": "bkSl2rJxJg23",
        "colab": {
          "base_uri": "https://localhost:8080/",
          "height": 295
        },
        "outputId": "3abaecda-3d34-4de1-a53f-c589fca1d6e7"
      },
      "source": [
        "plt.plot(history.history['accuracy'])\n",
        "plt.title('model accuracy')\n",
        "plt.ylabel('accuracy')\n",
        "plt.xlabel('epoch')\n",
        "plt.legend(['train', 'test'], loc='upper left')\n",
        "plt.show()"
      ],
      "execution_count": 39,
      "outputs": [
        {
          "output_type": "display_data",
          "data": {
            "image/png": "[encoded data removed]",
            "text/plain": [
              "<Figure size 432x288 with 1 Axes>"
            ]
          },
          "metadata": {
            "tags": [],
            "needs_background": "light"
          }
        }
      ]
    },
    {
      "cell_type": "code",
      "metadata": {
        "id": "1BQ3-ohaJg2b",
        "colab": {
          "base_uri": "https://localhost:8080/",
          "height": 89
        },
        "outputId": "ecc2589d-476d-4d85-8a6b-c5b92dff2551"
      },
      "source": [
        "w2v.doesnt_match(\"fish shark cat whale\".split())"
      ],
      "execution_count": 40,
      "outputs": [
        {
          "output_type": "stream",
          "text": [
            "/usr/local/lib/python3.7/dist-packages/gensim/models/keyedvectors.py:895: FutureWarning: arrays to stack must be passed as a \"sequence\" type such as list or tuple. Support for non-sequence iterables such as generators is deprecated as of NumPy 1.16 and will raise an error in the future.\n",
            "  vectors = vstack(self.word_vec(word, use_norm=True) for word in used_words).astype(REAL)\n"
          ],
          "name": "stderr"
        },
        {
          "output_type": "execute_result",
          "data": {
            "application/vnd.google.colaboratory.intrinsic+json": {
              "type": "string"
            },
            "text/plain": [
              "'cat'"
            ]
          },
          "metadata": {
            "tags": []
          },
          "execution_count": 40
        }
      ]
    },
    {
      "cell_type": "markdown",
      "metadata": {
        "id": "gOoYojWtJg3O"
      },
      "source": [
        "# Neural Network w Embedding From Scratch"
      ]
    },
    {
      "cell_type": "code",
      "metadata": {
        "id": "zncorqyvJg3O"
      },
      "source": [
        "from keras.layers import Dense, Input, LSTM, Embedding, Dropout, Activation,GRU, Conv1D\n",
        "from keras.layers import Bidirectional, GlobalMaxPool1D\n",
        "from keras.models import Model\n",
        "from keras import initializers, regularizers, constraints, optimizers, layers\n",
        "from keras.preprocessing.text import Tokenizer\n",
        "from keras.preprocessing.sequence import pad_sequences"
      ],
      "execution_count": 41,
      "outputs": []
    },
    {
      "cell_type": "code",
      "metadata": {
        "id": "p9W9PJZDJg3S"
      },
      "source": [
        "## some config values \n",
        "embed_size = 100 # how big is each word vector\n",
        "max_feature = 50000 # how many unique words to use (i.e num rows in embedding vector)\n",
        "max_len = 2000 # max number of words in a question to use"
      ],
      "execution_count": 42,
      "outputs": []
    },
    {
      "cell_type": "code",
      "metadata": {
        "id": "tfrdY0NbJg3U"
      },
      "source": [
        "tokenizer = Tokenizer(num_words=max_feature)"
      ],
      "execution_count": 43,
      "outputs": []
    },
    {
      "cell_type": "code",
      "metadata": {
        "id": "0ulmgu2_Jg3V"
      },
      "source": [
        "tokenizer.fit_on_texts(x_train)"
      ],
      "execution_count": 44,
      "outputs": []
    },
    {
      "cell_type": "code",
      "metadata": {
        "id": "15_Olth-Jg3W",
        "colab": {
          "base_uri": "https://localhost:8080/"
        },
        "outputId": "73e7513c-f246-43cd-b274-01a128d99b82"
      },
      "source": [
        "x_train_features = np.array(tokenizer.texts_to_sequences(x_train))\n",
        "x_test_features = np.array(tokenizer.texts_to_sequences(x_test))"
      ],
      "execution_count": 45,
      "outputs": [
        {
          "output_type": "stream",
          "text": [
            "/usr/local/lib/python3.7/dist-packages/ipykernel_launcher.py:1: VisibleDeprecationWarning: Creating an ndarray from ragged nested sequences (which is a list-or-tuple of lists-or-tuples-or ndarrays with different lengths or shapes) is deprecated. If you meant to do this, you must specify 'dtype=object' when creating the ndarray\n",
            "  \"\"\"Entry point for launching an IPython kernel.\n",
            "/usr/local/lib/python3.7/dist-packages/ipykernel_launcher.py:2: VisibleDeprecationWarning: Creating an ndarray from ragged nested sequences (which is a list-or-tuple of lists-or-tuples-or ndarrays with different lengths or shapes) is deprecated. If you meant to do this, you must specify 'dtype=object' when creating the ndarray\n",
            "  \n"
          ],
          "name": "stderr"
        }
      ]
    },
    {
      "cell_type": "code",
      "metadata": {
        "id": "STmnfjEsJg3X"
      },
      "source": [
        "x_train_features = pad_sequences(x_train_features,maxlen=max_len)\n",
        "x_test_features = pad_sequences(x_test_features,maxlen=max_len)"
      ],
      "execution_count": 46,
      "outputs": []
    },
    {
      "cell_type": "code",
      "metadata": {
        "id": "TxXSia3XJg3Z",
        "colab": {
          "base_uri": "https://localhost:8080/"
        },
        "outputId": "d9b9014b-bd6d-4f5a-f249-c5715f5ec3a9"
      },
      "source": [
        "embed_size = 100\n",
        "\n",
        "inp = Input(shape=(max_len,))\n",
        "x = Embedding(max_feature, embed_size)(inp)\n",
        "x = Bidirectional(GRU(64, return_sequences=True))(x)\n",
        "x = GlobalMaxPool1D()(x)\n",
        "x = Dense(16, activation=\"relu\")(x)\n",
        "x = Dropout(0.1)(x)\n",
        "x = Dense(1, activation=\"sigmoid\")(x)\n",
        "model = Model(inputs=inp, outputs=x)\n",
        "model.compile(loss='binary_crossentropy', optimizer='adam', metrics=['accuracy'])\n",
        "\n",
        "print(model.summary())"
      ],
      "execution_count": 47,
      "outputs": [
        {
          "output_type": "stream",
          "text": [
            "Model: \"model_1\"\n",
            "_________________________________________________________________\n",
            "Layer (type)                 Output Shape              Param #   \n",
            "=================================================================\n",
            "input_2 (InputLayer)         [(None, 2000)]            0         \n",
            "_________________________________________________________________\n",
            "embedding_1 (Embedding)      (None, 2000, 100)         5000000   \n",
            "_________________________________________________________________\n",
            "bidirectional_1 (Bidirection (None, 2000, 128)         63744     \n",
            "_________________________________________________________________\n",
            "global_max_pooling1d_1 (Glob (None, 128)               0         \n",
            "_________________________________________________________________\n",
            "dense_2 (Dense)              (None, 16)                2064      \n",
            "_________________________________________________________________\n",
            "dropout_1 (Dropout)          (None, 16)                0         \n",
            "_________________________________________________________________\n",
            "dense_3 (Dense)              (None, 1)                 17        \n",
            "=================================================================\n",
            "Total params: 5,065,825\n",
            "Trainable params: 5,065,825\n",
            "Non-trainable params: 0\n",
            "_________________________________________________________________\n",
            "None\n"
          ],
          "name": "stdout"
        }
      ]
    },
    {
      "cell_type": "code",
      "metadata": {
        "id": "wLR9OTUGJg3g",
        "colab": {
          "base_uri": "https://localhost:8080/"
        },
        "outputId": "6e663675-6453-4833-f105-744d0f5b0440"
      },
      "source": [
        "history = model.fit(x_train_features, y_train, batch_size=512, epochs=20, validation_data=(x_test_features, y_test))"
      ],
      "execution_count": 57,
      "outputs": [
        {
          "output_type": "stream",
          "text": [
            "Epoch 1/20\n",
            "9/9 [==============================] - 6s 619ms/step - loss: 0.2462 - accuracy: 0.8674 - val_loss: 0.2043 - val_accuracy: 0.8933\n",
            "Epoch 2/20\n",
            "9/9 [==============================] - 6s 626ms/step - loss: 0.1651 - accuracy: 0.9392 - val_loss: 0.1445 - val_accuracy: 0.9641\n",
            "Epoch 3/20\n",
            "9/9 [==============================] - 6s 622ms/step - loss: 0.1120 - accuracy: 0.9711 - val_loss: 0.1175 - val_accuracy: 0.9758\n",
            "Epoch 4/20\n",
            "9/9 [==============================] - 6s 627ms/step - loss: 0.0766 - accuracy: 0.9816 - val_loss: 0.0891 - val_accuracy: 0.9874\n",
            "Epoch 5/20\n",
            "9/9 [==============================] - 6s 631ms/step - loss: 0.0472 - accuracy: 0.9926 - val_loss: 0.0745 - val_accuracy: 0.9812\n",
            "Epoch 6/20\n",
            "9/9 [==============================] - 6s 629ms/step - loss: 0.0312 - accuracy: 0.9919 - val_loss: 0.0769 - val_accuracy: 0.9821\n",
            "Epoch 7/20\n",
            "9/9 [==============================] - 6s 631ms/step - loss: 0.0127 - accuracy: 0.9975 - val_loss: 0.0697 - val_accuracy: 0.9901\n",
            "Epoch 8/20\n",
            "9/9 [==============================] - 6s 623ms/step - loss: 0.0090 - accuracy: 0.9982 - val_loss: 0.0744 - val_accuracy: 0.9865\n",
            "Epoch 9/20\n",
            "9/9 [==============================] - 6s 618ms/step - loss: 0.0055 - accuracy: 0.9989 - val_loss: 0.0659 - val_accuracy: 0.9874\n",
            "Epoch 10/20\n",
            "9/9 [==============================] - 5s 617ms/step - loss: 0.0040 - accuracy: 0.9996 - val_loss: 0.0722 - val_accuracy: 0.9874\n",
            "Epoch 11/20\n",
            "9/9 [==============================] - 6s 619ms/step - loss: 0.0031 - accuracy: 0.9996 - val_loss: 0.0761 - val_accuracy: 0.9883\n",
            "Epoch 12/20\n",
            "9/9 [==============================] - 6s 617ms/step - loss: 0.0026 - accuracy: 0.9998 - val_loss: 0.0833 - val_accuracy: 0.9874\n",
            "Epoch 13/20\n",
            "9/9 [==============================] - 5s 617ms/step - loss: 0.0024 - accuracy: 0.9991 - val_loss: 0.0891 - val_accuracy: 0.9865\n",
            "Epoch 14/20\n",
            "9/9 [==============================] - 5s 613ms/step - loss: 0.0022 - accuracy: 0.9998 - val_loss: 0.0902 - val_accuracy: 0.9865\n",
            "Epoch 15/20\n",
            "9/9 [==============================] - 5s 614ms/step - loss: 0.0013 - accuracy: 1.0000 - val_loss: 0.0894 - val_accuracy: 0.9865\n",
            "Epoch 16/20\n",
            "9/9 [==============================] - 5s 617ms/step - loss: 0.0013 - accuracy: 0.9998 - val_loss: 0.0893 - val_accuracy: 0.9874\n",
            "Epoch 17/20\n",
            "9/9 [==============================] - 6s 620ms/step - loss: 9.2959e-04 - accuracy: 1.0000 - val_loss: 0.0908 - val_accuracy: 0.9874\n",
            "Epoch 18/20\n",
            "9/9 [==============================] - 6s 626ms/step - loss: 0.0011 - accuracy: 1.0000 - val_loss: 0.0927 - val_accuracy: 0.9874\n",
            "Epoch 19/20\n",
            "9/9 [==============================] - 6s 623ms/step - loss: 0.0011 - accuracy: 1.0000 - val_loss: 0.0964 - val_accuracy: 0.9874\n",
            "Epoch 20/20\n",
            "9/9 [==============================] - 6s 623ms/step - loss: 6.5955e-04 - accuracy: 1.0000 - val_loss: 0.0999 - val_accuracy: 0.9874\n"
          ],
          "name": "stdout"
        }
      ]
    },
    {
      "cell_type": "code",
      "metadata": {
        "id": "o6ddZ8E1Jg3k",
        "colab": {
          "base_uri": "https://localhost:8080/",
          "height": 295
        },
        "outputId": "816deac7-8cab-4963-a081-07a6e720aa5a"
      },
      "source": [
        "plt.plot(history.history['accuracy'])\n",
        "plt.title('model accuracy')\n",
        "plt.ylabel('accuracy')\n",
        "plt.xlabel('epoch')\n",
        "plt.legend(['train', 'test'], loc='upper left')\n",
        "plt.show()"
      ],
      "execution_count": 58,
      "outputs": [
        {
          "output_type": "display_data",
          "data": {
            "image/png": "[encoded data removed]",
            "text/plain": [
              "<Figure size 432x288 with 1 Axes>"
            ]
          },
          "metadata": {
            "tags": [],
            "needs_background": "light"
          }
        }
      ]
    },
    {
      "cell_type": "markdown",
      "metadata": {
        "id": "j5yDxKs7Jg3l"
      },
      "source": [
        "## Neural Network"
      ]
    },
    {
      "cell_type": "code",
      "metadata": {
        "id": "TzGF_hA4Jg3m"
      },
      "source": [
        "from sklearn.metrics import confusion_matrix,f1_score, precision_score,recall_score"
      ],
      "execution_count": 59,
      "outputs": []
    },
    {
      "cell_type": "code",
      "metadata": {
        "id": "gkJQ-yURJg3n"
      },
      "source": [
        "y_predict  = [1 if o>0.5 else 0 for o in model.predict(x_test_features)]"
      ],
      "execution_count": 60,
      "outputs": []
    },
    {
      "cell_type": "code",
      "metadata": {
        "id": "gB21196PJg3o",
        "colab": {
          "base_uri": "https://localhost:8080/"
        },
        "outputId": "f76b5736-e769-4317-ed97-6090a1aa8291"
      },
      "source": [
        "confusion_matrix(y_test,y_predict)"
      ],
      "execution_count": 61,
      "outputs": [
        {
          "output_type": "execute_result",
          "data": {
            "text/plain": [
              "array([[963,   2],\n",
              "       [ 12, 138]])"
            ]
          },
          "metadata": {
            "tags": []
          },
          "execution_count": 61
        }
      ]
    },
    {
      "cell_type": "code",
      "metadata": {
        "id": "kberNYWIJg3r"
      },
      "source": [
        "tn, fp, fn, tp = confusion_matrix(y_test,y_predict).ravel()"
      ],
      "execution_count": 62,
      "outputs": []
    },
    {
      "cell_type": "code",
      "metadata": {
        "id": "kshhXwFAJg3s",
        "colab": {
          "base_uri": "https://localhost:8080/"
        },
        "outputId": "71cc5e1d-6ca3-42cf-da10-28314cdefba8"
      },
      "source": [
        "print(\"Precision: {:.2f}%\".format(100 * precision_score(y_test, y_predict)))\n",
        "print(\"Recall: {:.2f}%\".format(100 * recall_score(y_test, y_predict)))"
      ],
      "execution_count": 63,
      "outputs": [
        {
          "output_type": "stream",
          "text": [
            "Precision: 98.57%\n",
            "Recall: 92.00%\n"
          ],
          "name": "stdout"
        }
      ]
    },
    {
      "cell_type": "code",
      "metadata": {
        "id": "x8pacWZkJg3v",
        "colab": {
          "base_uri": "https://localhost:8080/"
        },
        "outputId": "9bdc098e-8702-4953-cd55-6d069d1b685d"
      },
      "source": [
        "f1_score(y_test,y_predict)"
      ],
      "execution_count": 64,
      "outputs": [
        {
          "output_type": "execute_result",
          "data": {
            "text/plain": [
              "0.9517241379310346"
            ]
          },
          "metadata": {
            "tags": []
          },
          "execution_count": 64
        }
      ]
    },
    {
      "cell_type": "markdown",
      "metadata": {
        "id": "09TivZGrJg3y"
      },
      "source": [
        "## Error Analysis\n",
        "\n",
        "### Plot confusion matrix"
      ]
    },
    {
      "cell_type": "code",
      "metadata": {
        "id": "KJyDyVJHJg3y"
      },
      "source": [
        "import matplotlib.pyplot as plt\n",
        "from sklearn.metrics import confusion_matrix\n",
        "import itertools\n",
        "\n",
        "cnf_matrix = confusion_matrix(y_test,y_predict)\n",
        "\n",
        "def plot_confusion_matrix(cm, classes,\n",
        "                          normalize=False,\n",
        "                          title='Confusion matrix',\n",
        "                          cmap=plt.cm.Blues):\n",
        "    \"\"\"\n",
        "    This function prints and plots the confusion matrix.\n",
        "    Normalization can be applied by setting `normalize=True`.\n",
        "    \"\"\"\n",
        "    if normalize:\n",
        "        cm = cm.astype('float') / cm.sum(axis=1)[:, np.newaxis]\n",
        "        print(\"Normalized confusion matrix\")\n",
        "    else:\n",
        "        print('Confusion matrix, without normalization')\n",
        "\n",
        "    print(cm)\n",
        "\n",
        "    plt.imshow(cm, interpolation='nearest', cmap=cmap)\n",
        "    plt.title(title)\n",
        "    plt.colorbar()\n",
        "    tick_marks = np.arange(len(classes))\n",
        "    plt.xticks(tick_marks, classes, rotation=45)\n",
        "    plt.yticks(tick_marks, classes)\n",
        "\n",
        "    fmt = '.2f' if normalize else 'd'\n",
        "    thresh = cm.max() / 2.\n",
        "    for i, j in itertools.product(range(cm.shape[0]), range(cm.shape[1])):\n",
        "        plt.text(j, i, format(cm[i, j], fmt),\n",
        "                 horizontalalignment=\"center\",\n",
        "                 color=\"white\" if cm[i, j] > thresh else \"black\")\n",
        "\n",
        "    plt.ylabel('True label')\n",
        "    plt.xlabel('Predicted label')\n",
        "    plt.tight_layout()"
      ],
      "execution_count": 65,
      "outputs": []
    },
    {
      "cell_type": "markdown",
      "metadata": {
        "id": "78278baOJg3z"
      },
      "source": [
        "# Plot normalized confusion matrix"
      ]
    },
    {
      "cell_type": "code",
      "metadata": {
        "id": "xSafPEb4Jg3z",
        "colab": {
          "base_uri": "https://localhost:8080/",
          "height": 348
        },
        "outputId": "5d32114e-5c41-4879-f8ab-197fb192235d"
      },
      "source": [
        "plt.figure()\n",
        "plot_confusion_matrix(cnf_matrix, classes=['Non Spam','Spam'], normalize=False,\n",
        "                      title='Confusion matrix')"
      ],
      "execution_count": 66,
      "outputs": [
        {
          "output_type": "stream",
          "text": [
            "Confusion matrix, without normalization\n",
            "[[963   2]\n",
            " [ 12 138]]\n"
          ],
          "name": "stdout"
        },
        {
          "output_type": "display_data",
          "data": {
            "image/png": "[encoded data removed]",
            "text/plain": [
              "<Figure size 432x288 with 2 Axes>"
            ]
          },
          "metadata": {
            "tags": [],
            "needs_background": "light"
          }
        }
      ]
    }
  ]
}