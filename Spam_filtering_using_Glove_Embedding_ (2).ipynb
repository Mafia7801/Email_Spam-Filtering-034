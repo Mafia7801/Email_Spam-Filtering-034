{
  "nbformat": 4,
  "nbformat_minor": 0,
  "metadata": {
    "colab": {
      "name": "Spam_filtering_using_Glove_Embedding .ipynb",
      "provenance": [],
      "collapsed_sections": [],
      "toc_visible": true
    },
    "kernelspec": {
      "name": "python3",
      "display_name": "Python 3"
    },
    "accelerator": "GPU"
  },
  "cells": [
    {
      "cell_type": "code",
      "metadata": {
        "id": "RjS5xyUe9gcI"
      },
      "source": [
        "import numpy as np\n",
        "import pandas as pd\n",
        "import re\n",
        "import nltk\n",
        "from sklearn.model_selection import train_test_split\n",
        "from sklearn.feature_extraction.text import CountVectorizer"
      ],
      "execution_count": 1,
      "outputs": []
    },
    {
      "cell_type": "code",
      "metadata": {
        "id": "B7cukQjp9gcL"
      },
      "source": [
        "df = pd.read_csv('/content/spam.csv',encoding='latin-1')\n"
      ],
      "execution_count": 2,
      "outputs": []
    },
    {
      "cell_type": "code",
      "metadata": {
        "colab": {
          "base_uri": "https://localhost:8080/",
          "height": 204
        },
        "id": "gp5d4KPH9gcM",
        "outputId": "edbe0607-28d6-490e-bd79-0a15140b5f67"
      },
      "source": [
        "df.head()"
      ],
      "execution_count": 3,
      "outputs": [
        {
          "output_type": "execute_result",
          "data": {
            "text/html": [
              "<div>\n",
              "<style scoped>\n",
              "    .dataframe tbody tr th:only-of-type {\n",
              "        vertical-align: middle;\n",
              "    }\n",
              "\n",
              "    .dataframe tbody tr th {\n",
              "        vertical-align: top;\n",
              "    }\n",
              "\n",
              "    .dataframe thead th {\n",
              "        text-align: right;\n",
              "    }\n",
              "</style>\n",
              "<table border=\"1\" class=\"dataframe\">\n",
              "  <thead>\n",
              "    <tr style=\"text-align: right;\">\n",
              "      <th></th>\n",
              "      <th>v1</th>\n",
              "      <th>v2</th>\n",
              "      <th>Unnamed: 2</th>\n",
              "      <th>Unnamed: 3</th>\n",
              "      <th>Unnamed: 4</th>\n",
              "    </tr>\n",
              "  </thead>\n",
              "  <tbody>\n",
              "    <tr>\n",
              "      <th>0</th>\n",
              "      <td>ham</td>\n",
              "      <td>Go until jurong point, crazy.. Available only ...</td>\n",
              "      <td>NaN</td>\n",
              "      <td>NaN</td>\n",
              "      <td>NaN</td>\n",
              "    </tr>\n",
              "    <tr>\n",
              "      <th>1</th>\n",
              "      <td>ham</td>\n",
              "      <td>Ok lar... Joking wif u oni...</td>\n",
              "      <td>NaN</td>\n",
              "      <td>NaN</td>\n",
              "      <td>NaN</td>\n",
              "    </tr>\n",
              "    <tr>\n",
              "      <th>2</th>\n",
              "      <td>spam</td>\n",
              "      <td>Free entry in 2 a wkly comp to win FA Cup fina...</td>\n",
              "      <td>NaN</td>\n",
              "      <td>NaN</td>\n",
              "      <td>NaN</td>\n",
              "    </tr>\n",
              "    <tr>\n",
              "      <th>3</th>\n",
              "      <td>ham</td>\n",
              "      <td>U dun say so early hor... U c already then say...</td>\n",
              "      <td>NaN</td>\n",
              "      <td>NaN</td>\n",
              "      <td>NaN</td>\n",
              "    </tr>\n",
              "    <tr>\n",
              "      <th>4</th>\n",
              "      <td>ham</td>\n",
              "      <td>Nah I don't think he goes to usf, he lives aro...</td>\n",
              "      <td>NaN</td>\n",
              "      <td>NaN</td>\n",
              "      <td>NaN</td>\n",
              "    </tr>\n",
              "  </tbody>\n",
              "</table>\n",
              "</div>"
            ],
            "text/plain": [
              "     v1  ... Unnamed: 4\n",
              "0   ham  ...        NaN\n",
              "1   ham  ...        NaN\n",
              "2  spam  ...        NaN\n",
              "3   ham  ...        NaN\n",
              "4   ham  ...        NaN\n",
              "\n",
              "[5 rows x 5 columns]"
            ]
          },
          "metadata": {
            "tags": []
          },
          "execution_count": 3
        }
      ]
    },
    {
      "cell_type": "code",
      "metadata": {
        "colab": {
          "base_uri": "https://localhost:8080/",
          "height": 204
        },
        "id": "Y2FKnNJQsx81",
        "outputId": "56338b1f-6d9b-4858-92fa-1d5de13221b9"
      },
      "source": [
        "# converting to binary data\n",
        "df_one = pd.get_dummies(df[\"v1\"])\n",
        "# print(df_one)\n",
        "  \n",
        "# display result\n",
        "df_two = pd.concat((df_one, df), axis=1)\n",
        "df_two = df_two.drop([\"v1\"], axis=1)\n",
        "df_two = df_two.drop([\"ham\"], axis=1)\n",
        "df1 = df_two.rename(columns={\"spam\": \"v1\"})\n",
        "df1.head()"
      ],
      "execution_count": 4,
      "outputs": [
        {
          "output_type": "execute_result",
          "data": {
            "text/html": [
              "<div>\n",
              "<style scoped>\n",
              "    .dataframe tbody tr th:only-of-type {\n",
              "        vertical-align: middle;\n",
              "    }\n",
              "\n",
              "    .dataframe tbody tr th {\n",
              "        vertical-align: top;\n",
              "    }\n",
              "\n",
              "    .dataframe thead th {\n",
              "        text-align: right;\n",
              "    }\n",
              "</style>\n",
              "<table border=\"1\" class=\"dataframe\">\n",
              "  <thead>\n",
              "    <tr style=\"text-align: right;\">\n",
              "      <th></th>\n",
              "      <th>v1</th>\n",
              "      <th>v2</th>\n",
              "      <th>Unnamed: 2</th>\n",
              "      <th>Unnamed: 3</th>\n",
              "      <th>Unnamed: 4</th>\n",
              "    </tr>\n",
              "  </thead>\n",
              "  <tbody>\n",
              "    <tr>\n",
              "      <th>0</th>\n",
              "      <td>0</td>\n",
              "      <td>Go until jurong point, crazy.. Available only ...</td>\n",
              "      <td>NaN</td>\n",
              "      <td>NaN</td>\n",
              "      <td>NaN</td>\n",
              "    </tr>\n",
              "    <tr>\n",
              "      <th>1</th>\n",
              "      <td>0</td>\n",
              "      <td>Ok lar... Joking wif u oni...</td>\n",
              "      <td>NaN</td>\n",
              "      <td>NaN</td>\n",
              "      <td>NaN</td>\n",
              "    </tr>\n",
              "    <tr>\n",
              "      <th>2</th>\n",
              "      <td>1</td>\n",
              "      <td>Free entry in 2 a wkly comp to win FA Cup fina...</td>\n",
              "      <td>NaN</td>\n",
              "      <td>NaN</td>\n",
              "      <td>NaN</td>\n",
              "    </tr>\n",
              "    <tr>\n",
              "      <th>3</th>\n",
              "      <td>0</td>\n",
              "      <td>U dun say so early hor... U c already then say...</td>\n",
              "      <td>NaN</td>\n",
              "      <td>NaN</td>\n",
              "      <td>NaN</td>\n",
              "    </tr>\n",
              "    <tr>\n",
              "      <th>4</th>\n",
              "      <td>0</td>\n",
              "      <td>Nah I don't think he goes to usf, he lives aro...</td>\n",
              "      <td>NaN</td>\n",
              "      <td>NaN</td>\n",
              "      <td>NaN</td>\n",
              "    </tr>\n",
              "  </tbody>\n",
              "</table>\n",
              "</div>"
            ],
            "text/plain": [
              "   v1                                                 v2  ... Unnamed: 3 Unnamed: 4\n",
              "0   0  Go until jurong point, crazy.. Available only ...  ...        NaN        NaN\n",
              "1   0                      Ok lar... Joking wif u oni...  ...        NaN        NaN\n",
              "2   1  Free entry in 2 a wkly comp to win FA Cup fina...  ...        NaN        NaN\n",
              "3   0  U dun say so early hor... U c already then say...  ...        NaN        NaN\n",
              "4   0  Nah I don't think he goes to usf, he lives aro...  ...        NaN        NaN\n",
              "\n",
              "[5 rows x 5 columns]"
            ]
          },
          "metadata": {
            "tags": []
          },
          "execution_count": 4
        }
      ]
    },
    {
      "cell_type": "code",
      "metadata": {
        "colab": {
          "base_uri": "https://localhost:8080/",
          "height": 204
        },
        "id": "GFPGRMtO9gcO",
        "outputId": "70740ed7-455f-4374-8d65-e6a9b9905bb4"
      },
      "source": [
        "df1.drop(\"Unnamed: 3\",inplace=True,axis=1)\n",
        "df1.drop(\"Unnamed: 4\",inplace=True,axis=1)\n",
        "df1.drop(\"Unnamed: 2\",inplace=True,axis=1)\n",
        "\n",
        "df1.head()"
      ],
      "execution_count": 5,
      "outputs": [
        {
          "output_type": "execute_result",
          "data": {
            "text/html": [
              "<div>\n",
              "<style scoped>\n",
              "    .dataframe tbody tr th:only-of-type {\n",
              "        vertical-align: middle;\n",
              "    }\n",
              "\n",
              "    .dataframe tbody tr th {\n",
              "        vertical-align: top;\n",
              "    }\n",
              "\n",
              "    .dataframe thead th {\n",
              "        text-align: right;\n",
              "    }\n",
              "</style>\n",
              "<table border=\"1\" class=\"dataframe\">\n",
              "  <thead>\n",
              "    <tr style=\"text-align: right;\">\n",
              "      <th></th>\n",
              "      <th>v1</th>\n",
              "      <th>v2</th>\n",
              "    </tr>\n",
              "  </thead>\n",
              "  <tbody>\n",
              "    <tr>\n",
              "      <th>0</th>\n",
              "      <td>0</td>\n",
              "      <td>Go until jurong point, crazy.. Available only ...</td>\n",
              "    </tr>\n",
              "    <tr>\n",
              "      <th>1</th>\n",
              "      <td>0</td>\n",
              "      <td>Ok lar... Joking wif u oni...</td>\n",
              "    </tr>\n",
              "    <tr>\n",
              "      <th>2</th>\n",
              "      <td>1</td>\n",
              "      <td>Free entry in 2 a wkly comp to win FA Cup fina...</td>\n",
              "    </tr>\n",
              "    <tr>\n",
              "      <th>3</th>\n",
              "      <td>0</td>\n",
              "      <td>U dun say so early hor... U c already then say...</td>\n",
              "    </tr>\n",
              "    <tr>\n",
              "      <th>4</th>\n",
              "      <td>0</td>\n",
              "      <td>Nah I don't think he goes to usf, he lives aro...</td>\n",
              "    </tr>\n",
              "  </tbody>\n",
              "</table>\n",
              "</div>"
            ],
            "text/plain": [
              "   v1                                                 v2\n",
              "0   0  Go until jurong point, crazy.. Available only ...\n",
              "1   0                      Ok lar... Joking wif u oni...\n",
              "2   1  Free entry in 2 a wkly comp to win FA Cup fina...\n",
              "3   0  U dun say so early hor... U c already then say...\n",
              "4   0  Nah I don't think he goes to usf, he lives aro..."
            ]
          },
          "metadata": {
            "tags": []
          },
          "execution_count": 5
        }
      ]
    },
    {
      "cell_type": "markdown",
      "metadata": {
        "id": "DAm9uTni9gcR"
      },
      "source": [
        "<h3>Cleaning and Preparing text</h3>\n",
        "<ul>\n",
        "    <li>Cleaning links</li>\n",
        "    <li>Cleaning digits except alphabetical and numeric characters</li>\n",
        "    <li>Lowering</li>\n",
        "    <li>Tokenising</li>\n",
        "    <li>Lemmatizing and Removing Stop words</li>\n",
        "    <li>Bag of words</li>\n",
        "</ul>"
      ]
    },
    {
      "cell_type": "markdown",
      "metadata": {
        "id": "WO3g06wZ9gcR"
      },
      "source": [
        "<h3>Cleaning links</h3>\n",
        "<p>There are links in the mail such as: <a>https://google.com.tr</a>. If we don't remove them they can cause problems.</p>\n",
        "<p>To clean the following links, we can use Regex(regular) expression.A regular expression is a special sequence of characters that helps you match or find other strings or sets of strings, using a specialized syntax held in a pattern. Regular expressions are widely used in UNIX world. </p>"
      ]
    },
    {
      "cell_type": "code",
      "metadata": {
        "colab": {
          "base_uri": "https://localhost:8080/"
        },
        "id": "KNjvG-G39gcR",
        "outputId": "dc9c43df-250b-47e6-9a85-bf2415f0d655"
      },
      "source": [
        "x = df1[\"v2\"]\n",
        "x_clnd_link = [re.sub(r\"http\\S+\", \"\", text) for text in x]\n",
        "\n",
        "print(x_clnd_link[0])"
      ],
      "execution_count": 6,
      "outputs": [
        {
          "output_type": "stream",
          "text": [
            "Go until jurong point, crazy.. Available only in bugis n great world la e buffet... Cine there got amore wat...\n"
          ],
          "name": "stdout"
        }
      ]
    },
    {
      "cell_type": "markdown",
      "metadata": {
        "id": "Yqeur_GT9gcS"
      },
      "source": [
        "<h3>Cleaning digits except alphabetical and numeric characters</h3>\n",
        "<p>As you can see from the text above, there are a lot of digits such as <b>*</b> and <b>:</b> They don't have a meaning, so we should remove them from the texts.\n",
        "\n",
        "In order to clean unrelevant digits we'll use regex again.</p>"
      ]
    },
    {
      "cell_type": "code",
      "metadata": {
        "id": "HyCyMZF09gcS"
      },
      "source": [
        "pattern = \"[^a-zA-Z0-9]\""
      ],
      "execution_count": 7,
      "outputs": []
    },
    {
      "cell_type": "markdown",
      "metadata": {
        "id": "dvd1_8DL9gcS"
      },
      "source": [
        "\n",
        "\n",
        "<p>-This helps to remove special characters</p>"
      ]
    },
    {
      "cell_type": "code",
      "metadata": {
        "colab": {
          "base_uri": "https://localhost:8080/"
        },
        "id": "QRpRpQmh9gcT",
        "outputId": "26ec9e91-b24d-4ae3-bfd9-aa7cb8642515"
      },
      "source": [
        "#This means to replace all the characters following the pattern\n",
        "x_cleaned = [re.sub(pattern, \" \",text) for text in x_clnd_link]\n",
        "\n",
        "print(x_cleaned[0])"
      ],
      "execution_count": 8,
      "outputs": [
        {
          "output_type": "stream",
          "text": [
            "Go until jurong point  crazy   Available only in bugis n great world la e buffet    Cine there got amore wat   \n"
          ],
          "name": "stdout"
        }
      ]
    },
    {
      "cell_type": "markdown",
      "metadata": {
        "id": "8M8v_ABR9gcT"
      },
      "source": [
        "<p><b>Now let's lower the texts, I won't add a section for it because it is a familiar process from the vanilla python.\n",
        "\n",
        "</b></p>"
      ]
    },
    {
      "cell_type": "code",
      "metadata": {
        "colab": {
          "base_uri": "https://localhost:8080/"
        },
        "id": "yzN98oRk9gcU",
        "outputId": "fe65e0f1-d01f-436c-a424-020b6b727286"
      },
      "source": [
        "x_lowered = [text.lower() for text in x_cleaned]\n",
        "\n",
        "print(x_lowered[0])"
      ],
      "execution_count": 9,
      "outputs": [
        {
          "output_type": "stream",
          "text": [
            "go until jurong point  crazy   available only in bugis n great world la e buffet    cine there got amore wat   \n"
          ],
          "name": "stdout"
        }
      ]
    },
    {
      "cell_type": "markdown",
      "metadata": {
        "id": "1ogtrt9S9gcU"
      },
      "source": [
        "<h3>Tokeninzing</h3>\n",
        "<p>In order to create a feature that shows whether the text includes the word or not, we need to split words into lists, we can do this using pythonString.split() but there is a better function to do this in NLTK.\n",
        "\n",
        "Let's tokenize the texts.</p>"
      ]
    },
    {
      "cell_type": "code",
      "metadata": {
        "colab": {
          "base_uri": "https://localhost:8080/"
        },
        "id": "KCwfjHanBmpp",
        "outputId": "4605dad4-2128-4019-a705-e694463e64ca"
      },
      "source": [
        "nltk.download('punkt')"
      ],
      "execution_count": 10,
      "outputs": [
        {
          "output_type": "stream",
          "text": [
            "[nltk_data] Downloading package punkt to /root/nltk_data...\n",
            "[nltk_data]   Unzipping tokenizers/punkt.zip.\n"
          ],
          "name": "stdout"
        },
        {
          "output_type": "execute_result",
          "data": {
            "text/plain": [
              "True"
            ]
          },
          "metadata": {
            "tags": []
          },
          "execution_count": 10
        }
      ]
    },
    {
      "cell_type": "code",
      "metadata": {
        "colab": {
          "base_uri": "https://localhost:8080/"
        },
        "id": "pTd6V_pu9gcU",
        "outputId": "b2e83de1-b14c-4a39-f264-24e276cbba37"
      },
      "source": [
        "x_tokenized = [nltk.word_tokenize(text) for text in x_lowered]\n",
        "\n",
        "print(x_tokenized[0])"
      ],
      "execution_count": 11,
      "outputs": [
        {
          "output_type": "stream",
          "text": [
            "['go', 'until', 'jurong', 'point', 'crazy', 'available', 'only', 'in', 'bugis', 'n', 'great', 'world', 'la', 'e', 'buffet', 'cine', 'there', 'got', 'amore', 'wat']\n"
          ],
          "name": "stdout"
        }
      ]
    },
    {
      "cell_type": "markdown",
      "metadata": {
        "id": "oMHutsri9gcV"
      },
      "source": [
        "<p>- Each sentence turned into a list that contains words.</p>"
      ]
    },
    {
      "cell_type": "markdown",
      "metadata": {
        "id": "KGRlZUQW9gcV"
      },
      "source": [
        "<h3>Lemmatizing and Removing Stopwords</h3>\n",
        "<p>In natural languages, words can get additional so each word can have a lot of versions, sometimes these additionals may give tips to us but in filtering spams, we don't need them.There are two ways to remove additionals: <b>Stemmers and Lemmatizers</b> </p>\n",
        "\n",
        "<h3>Stemmers</h3>\n",
        "<p>Stemmers are rule based weak tools, they remove additionals using rules but in natural languages everything does not follow the rules. Also It cant change tenses, for instance lemmatizers convert learnt into learn, stemmers don't touch them. Although stemmers are weak they are fast and although so many natural language do not have lemmatizers most of them have stemmers.</p>\n",
        "\n",
        "<h3>Lemmatizers</h3>\n",
        "<p>Lemmatizers uses dictionaries to remove additionals and change tenses. They work good but developing a lemmatizer is hard and needs a lot of resource, so they are rare. Also lemmatizers use dictionaries, and that causes lemmatizers being slow.\n",
        "\n",
        "In this kernel we'll use NLTK's WordNet Lemmatizer. WordNet is a big dictionary.</p>\n"
      ]
    },
    {
      "cell_type": "code",
      "metadata": {
        "colab": {
          "base_uri": "https://localhost:8080/"
        },
        "id": "f30v-5Pi9gcW",
        "outputId": "7043ea96-e544-4629-dffe-454ab818c279"
      },
      "source": [
        "nltk.download('wordnet')\n",
        "from nltk.stem import WordNetLemmatizer\n",
        "lemma = WordNetLemmatizer()"
      ],
      "execution_count": 12,
      "outputs": [
        {
          "output_type": "stream",
          "text": [
            "[nltk_data] Downloading package wordnet to /root/nltk_data...\n",
            "[nltk_data]   Unzipping corpora/wordnet.zip.\n"
          ],
          "name": "stdout"
        }
      ]
    },
    {
      "cell_type": "markdown",
      "metadata": {
        "id": "rDj7cMWL9gcW"
      },
      "source": [
        "<p>- Now, we can easily use lemmatizer</p>"
      ]
    },
    {
      "cell_type": "code",
      "metadata": {
        "colab": {
          "base_uri": "https://localhost:8080/"
        },
        "id": "syb3I_bK9gcW",
        "outputId": "8636c9e2-4c7f-4992-a0ec-27746c6cf409"
      },
      "source": [
        "words = [\"pets\",\"bats\",\"cats\",\"removed\",\"beers\",\"went\",\"stopped\",\"studied\"]\n",
        "for word in words:\n",
        "    print(lemma.lemmatize(word), end=\" \")"
      ],
      "execution_count": 13,
      "outputs": [
        {
          "output_type": "stream",
          "text": [
            "pet bat cat removed beer went stopped studied "
          ],
          "name": "stdout"
        }
      ]
    },
    {
      "cell_type": "markdown",
      "metadata": {
        "id": "wopUxP7V9gcX"
      },
      "source": [
        "<p>- We can now lemmatize our tokenized text</p>"
      ]
    },
    {
      "cell_type": "code",
      "metadata": {
        "colab": {
          "base_uri": "https://localhost:8080/"
        },
        "id": "jreZaZwW9gcX",
        "outputId": "19b9ae69-1966-490c-dc73-cf41043866df"
      },
      "source": [
        "x_lemmatized = [[lemma.lemmatize(word) for word in text] for text in x_tokenized]\n",
        "\n",
        "print(x_lemmatized[0])"
      ],
      "execution_count": 14,
      "outputs": [
        {
          "output_type": "stream",
          "text": [
            "['go', 'until', 'jurong', 'point', 'crazy', 'available', 'only', 'in', 'bugis', 'n', 'great', 'world', 'la', 'e', 'buffet', 'cine', 'there', 'got', 'amore', 'wat']\n"
          ],
          "name": "stdout"
        }
      ]
    },
    {
      "cell_type": "markdown",
      "metadata": {
        "id": "S-YtFBaD9gcX"
      },
      "source": [
        "<h3>Removing Stopwords</h3>\n",
        "<p>In natural languages there are words that not have a special meaning such as <b>will</b>, it is always a tense and such as <b>and,or</b>\n",
        "\n",
        "In order to win from time and improve the model we should remove them. There are several ways to remove them but in this kernel we'll use stopwords corpora of NLTK. There are stopwords of 11 natural language in there.</p>"
      ]
    },
    {
      "cell_type": "code",
      "metadata": {
        "colab": {
          "base_uri": "https://localhost:8080/"
        },
        "id": "b42t-ibv9gcY",
        "outputId": "9c30e63a-54f1-43a0-f100-3a0fc6a884fd"
      },
      "source": [
        "import nltk\n",
        "nltk.download('stopwords')"
      ],
      "execution_count": 15,
      "outputs": [
        {
          "output_type": "stream",
          "text": [
            "[nltk_data] Downloading package stopwords to /root/nltk_data...\n",
            "[nltk_data]   Unzipping corpora/stopwords.zip.\n"
          ],
          "name": "stdout"
        },
        {
          "output_type": "execute_result",
          "data": {
            "text/plain": [
              "True"
            ]
          },
          "metadata": {
            "tags": []
          },
          "execution_count": 15
        }
      ]
    },
    {
      "cell_type": "code",
      "metadata": {
        "colab": {
          "base_uri": "https://localhost:8080/"
        },
        "id": "t4u1IEWO9gcY",
        "outputId": "d2151cbe-8d8b-498e-f075-a5b3764cd7b5"
      },
      "source": [
        "stopwords = nltk.corpus.stopwords.words('english')\n",
        "x_prepared = [[word for word in text if word not in stopwords] for text in x_lemmatized]\n",
        "\n",
        "print(x_prepared[0])"
      ],
      "execution_count": 16,
      "outputs": [
        {
          "output_type": "stream",
          "text": [
            "['go', 'jurong', 'point', 'crazy', 'available', 'bugis', 'n', 'great', 'world', 'la', 'e', 'buffet', 'cine', 'got', 'amore', 'wat']\n"
          ],
          "name": "stdout"
        }
      ]
    },
    {
      "cell_type": "markdown",
      "metadata": {
        "id": "-uuR49J69gcZ"
      },
      "source": [
        "<p>Let's see the unique words of our dataset</p>"
      ]
    },
    {
      "cell_type": "markdown",
      "metadata": {
        "id": "Pz-ilfjA9gcZ"
      },
      "source": [
        "<h3>Bag of words</h3>\n",
        "<p>And we came to the final process of this section: Bag of Words. Bag of Words is an easy approach to make sense of texts.</p>"
      ]
    },
    {
      "cell_type": "code",
      "metadata": {
        "id": "6zpyVXsv9gca"
      },
      "source": [
        "vectorizer = CountVectorizer(max_features=20000)\n",
        "x = vectorizer.fit_transform([\" \".join(text) for text in x_prepared]).toarray()"
      ],
      "execution_count": 17,
      "outputs": []
    },
    {
      "cell_type": "code",
      "metadata": {
        "colab": {
          "base_uri": "https://localhost:8080/"
        },
        "id": "stGhXkVq9gca",
        "outputId": "2c5b6a3f-bd2a-4bf5-9c43-c32e68965973"
      },
      "source": [
        "x.shape"
      ],
      "execution_count": 18,
      "outputs": [
        {
          "output_type": "execute_result",
          "data": {
            "text/plain": [
              "(5572, 7935)"
            ]
          },
          "metadata": {
            "tags": []
          },
          "execution_count": 18
        }
      ]
    },
    {
      "cell_type": "code",
      "metadata": {
        "id": "-b3Ht2289gca"
      },
      "source": [
        "x_train,x_test,y_train,y_test = train_test_split(x_prepared,np.asarray(df1[\"v1\"]),random_state=42,test_size=0.2)"
      ],
      "execution_count": 19,
      "outputs": []
    },
    {
      "cell_type": "code",
      "metadata": {
        "colab": {
          "base_uri": "https://localhost:8080/"
        },
        "id": "in4xhtv9m5jN",
        "outputId": "292b5bed-8979-464a-9e01-178723cb48ba"
      },
      "source": [
        "y_train"
      ],
      "execution_count": 20,
      "outputs": [
        {
          "output_type": "execute_result",
          "data": {
            "text/plain": [
              "array([0, 1, 0, ..., 0, 0, 0], dtype=uint8)"
            ]
          },
          "metadata": {
            "tags": []
          },
          "execution_count": 20
        }
      ]
    },
    {
      "cell_type": "markdown",
      "metadata": {
        "id": "8_3UN_teJg2O"
      },
      "source": [
        "# Play around with Word2vector"
      ]
    },
    {
      "cell_type": "code",
      "metadata": {
        "colab": {
          "base_uri": "https://localhost:8080/"
        },
        "id": "PVVMmRqJATj5",
        "outputId": "7196196e-b344-4d16-984b-3cbecdd220ff"
      },
      "source": [
        "!wget http://nlp.stanford.edu/data/glove.6B.zip"
      ],
      "execution_count": 21,
      "outputs": [
        {
          "output_type": "stream",
          "text": [
            "--2021-05-27 03:56:00--  http://nlp.stanford.edu/data/glove.6B.zip\n",
            "Resolving nlp.stanford.edu (nlp.stanford.edu)... 171.64.67.140\n",
            "Connecting to nlp.stanford.edu (nlp.stanford.edu)|171.64.67.140|:80... connected.\n",
            "HTTP request sent, awaiting response... 302 Found\n",
            "Location: https://nlp.stanford.edu/data/glove.6B.zip [following]\n",
            "--2021-05-27 03:56:00--  https://nlp.stanford.edu/data/glove.6B.zip\n",
            "Connecting to nlp.stanford.edu (nlp.stanford.edu)|171.64.67.140|:443... connected.\n",
            "HTTP request sent, awaiting response... 301 Moved Permanently\n",
            "Location: http://downloads.cs.stanford.edu/nlp/data/glove.6B.zip [following]\n",
            "--2021-05-27 03:56:00--  http://downloads.cs.stanford.edu/nlp/data/glove.6B.zip\n",
            "Resolving downloads.cs.stanford.edu (downloads.cs.stanford.edu)... 171.64.64.22\n",
            "Connecting to downloads.cs.stanford.edu (downloads.cs.stanford.edu)|171.64.64.22|:80... connected.\n",
            "HTTP request sent, awaiting response... 200 OK\n",
            "Length: 862182613 (822M) [application/zip]\n",
            "Saving to: ‘glove.6B.zip’\n",
            "\n",
            "glove.6B.zip        100%[===================>] 822.24M  5.05MB/s    in 2m 40s  \n",
            "\n",
            "2021-05-27 03:58:40 (5.15 MB/s) - ‘glove.6B.zip’ saved [862182613/862182613]\n",
            "\n"
          ],
          "name": "stdout"
        }
      ]
    },
    {
      "cell_type": "code",
      "metadata": {
        "colab": {
          "base_uri": "https://localhost:8080/"
        },
        "id": "vTfx9vpNCaTy",
        "outputId": "ea85aeef-2d61-4f0a-a933-75572e446f18"
      },
      "source": [
        "!unzip glove.6B.zip"
      ],
      "execution_count": 22,
      "outputs": [
        {
          "output_type": "stream",
          "text": [
            "Archive:  glove.6B.zip\n",
            "  inflating: glove.6B.50d.txt        \n",
            "  inflating: glove.6B.100d.txt       \n",
            "  inflating: glove.6B.200d.txt       \n",
            "  inflating: glove.6B.300d.txt       \n"
          ],
          "name": "stdout"
        }
      ]
    },
    {
      "cell_type": "code",
      "metadata": {
        "colab": {
          "base_uri": "https://localhost:8080/"
        },
        "id": "mFqomk11CveF",
        "outputId": "5edc1adb-2387-44a8-b214-df510ec148a4"
      },
      "source": [
        "!python -m gensim.scripts.glove2word2vec -i glove.6B.300d.txt -o glove.6B.300d.word2vec.txt"
      ],
      "execution_count": 23,
      "outputs": [
        {
          "output_type": "stream",
          "text": [
            "/usr/lib/python3.7/runpy.py:125: RuntimeWarning: 'gensim.scripts.glove2word2vec' found in sys.modules after import of package 'gensim.scripts', but prior to execution of 'gensim.scripts.glove2word2vec'; this may result in unpredictable behaviour\n",
            "  warn(RuntimeWarning(msg))\n",
            "2021-05-27 03:59:12,805 - glove2word2vec - INFO - running /usr/local/lib/python3.7/dist-packages/gensim/scripts/glove2word2vec.py -i glove.6B.300d.txt -o glove.6B.300d.word2vec.txt\n",
            "2021-05-27 03:59:13,343 - glove2word2vec - INFO - converting 400000 vectors from glove.6B.300d.txt to glove.6B.300d.word2vec.txt\n",
            "2021-05-27 03:59:33,528 - glove2word2vec - INFO - Converted model with 400000 vectors and 300 dimensions\n"
          ],
          "name": "stdout"
        }
      ]
    },
    {
      "cell_type": "code",
      "metadata": {
        "colab": {
          "base_uri": "https://localhost:8080/"
        },
        "id": "DjWXf1lfC2t4",
        "outputId": "32359d34-26fc-4d8a-a6e6-aae358ce5467"
      },
      "source": [
        "import nltk\n",
        "nltk.download('punkt')\n",
        "nltk.download('wordnet')"
      ],
      "execution_count": 24,
      "outputs": [
        {
          "output_type": "stream",
          "text": [
            "[nltk_data] Downloading package punkt to /root/nltk_data...\n",
            "[nltk_data]   Package punkt is already up-to-date!\n",
            "[nltk_data] Downloading package wordnet to /root/nltk_data...\n",
            "[nltk_data]   Package wordnet is already up-to-date!\n"
          ],
          "name": "stdout"
        },
        {
          "output_type": "execute_result",
          "data": {
            "text/plain": [
              "True"
            ]
          },
          "metadata": {
            "tags": []
          },
          "execution_count": 24
        }
      ]
    },
    {
      "cell_type": "code",
      "metadata": {
        "id": "TZkuozesJg2Q"
      },
      "source": [
        "from gensim.models import KeyedVectors\n",
        "\n",
        "w2v = KeyedVectors.load_word2vec_format('glove.6B.300d.word2vec.txt',binary=False)"
      ],
      "execution_count": 25,
      "outputs": []
    },
    {
      "cell_type": "code",
      "metadata": {
        "id": "gIfT1_6dJg2S",
        "colab": {
          "base_uri": "https://localhost:8080/"
        },
        "outputId": "f10452ba-fb7a-4f1b-f8d3-277eab7646a5"
      },
      "source": [
        "w2v.most_similar('king')"
      ],
      "execution_count": 26,
      "outputs": [
        {
          "output_type": "execute_result",
          "data": {
            "text/plain": [
              "[('queen', 0.6336469054222107),\n",
              " ('prince', 0.619662344455719),\n",
              " ('monarch', 0.5899620652198792),\n",
              " ('kingdom', 0.5791267156600952),\n",
              " ('throne', 0.5606487989425659),\n",
              " ('ii', 0.5562329888343811),\n",
              " ('iii', 0.5503199100494385),\n",
              " ('crown', 0.5224862694740295),\n",
              " ('reign', 0.521735429763794),\n",
              " ('kings', 0.5066401362419128)]"
            ]
          },
          "metadata": {
            "tags": []
          },
          "execution_count": 26
        }
      ]
    },
    {
      "cell_type": "code",
      "metadata": {
        "id": "gniRm08jJg2U",
        "colab": {
          "base_uri": "https://localhost:8080/"
        },
        "outputId": "1ca406cc-ad27-499c-e258-d8c8efa3477b"
      },
      "source": [
        "# King + Woman - Man = ?\n",
        "w2v.most_similar(['king','woman'],negative=['man'],topn=1)"
      ],
      "execution_count": 27,
      "outputs": [
        {
          "output_type": "execute_result",
          "data": {
            "text/plain": [
              "[('queen', 0.6713277101516724)]"
            ]
          },
          "metadata": {
            "tags": []
          },
          "execution_count": 27
        }
      ]
    },
    {
      "cell_type": "code",
      "metadata": {
        "id": "SLaROjMvJg2X",
        "colab": {
          "base_uri": "https://localhost:8080/",
          "height": 89
        },
        "outputId": "e84554d3-81bf-4db1-ca03-04978fcaeccb"
      },
      "source": [
        "w2v.doesnt_match(\"england china vietnam laos\".split())"
      ],
      "execution_count": 28,
      "outputs": [
        {
          "output_type": "stream",
          "text": [
            "/usr/local/lib/python3.7/dist-packages/gensim/models/keyedvectors.py:895: FutureWarning: arrays to stack must be passed as a \"sequence\" type such as list or tuple. Support for non-sequence iterables such as generators is deprecated as of NumPy 1.16 and will raise an error in the future.\n",
            "  vectors = vstack(self.word_vec(word, use_norm=True) for word in used_words).astype(REAL)\n"
          ],
          "name": "stderr"
        },
        {
          "output_type": "execute_result",
          "data": {
            "application/vnd.google.colaboratory.intrinsic+json": {
              "type": "string"
            },
            "text/plain": [
              "'england'"
            ]
          },
          "metadata": {
            "tags": []
          },
          "execution_count": 28
        }
      ]
    },
    {
      "cell_type": "markdown",
      "metadata": {
        "id": "U7sRMbhKJg2d"
      },
      "source": [
        "## Use Glove Pretrain"
      ]
    },
    {
      "cell_type": "code",
      "metadata": {
        "id": "OsHRosFGJg2e"
      },
      "source": [
        "import matplotlib.pyplot as plt\n",
        "from keras.preprocessing.text import Tokenizer\n",
        "from keras.preprocessing.sequence import pad_sequences\n",
        "from keras.layers import Dense, Input, LSTM, Embedding, Dropout,GRU, Activation ,Conv1D\n",
        "from keras.layers import Bidirectional, GlobalMaxPool1D\n",
        "from keras.models import Model\n",
        "from keras import initializers, regularizers, constraints, optimizers, layers\n"
      ],
      "execution_count": 29,
      "outputs": []
    },
    {
      "cell_type": "code",
      "metadata": {
        "id": "oBwaw0D6Jg2f"
      },
      "source": [
        "maxlen = 2000\n",
        "max_features = 7098"
      ],
      "execution_count": 30,
      "outputs": []
    },
    {
      "cell_type": "code",
      "metadata": {
        "id": "6v4x8c3GJg2h"
      },
      "source": [
        "EMBEDDING_FILE = 'glove.6B.300d.txt'\n",
        "tokenizer = Tokenizer(num_words=max_features)"
      ],
      "execution_count": 31,
      "outputs": []
    },
    {
      "cell_type": "code",
      "metadata": {
        "id": "nOlphmFrJg2q"
      },
      "source": [
        "tokenizer.fit_on_texts(x_train)"
      ],
      "execution_count": 32,
      "outputs": []
    },
    {
      "cell_type": "code",
      "metadata": {
        "id": "zFgjFkSRJg2r",
        "colab": {
          "base_uri": "https://localhost:8080/"
        },
        "outputId": "fa2b7d04-1f0d-4526-993d-9d5082035780"
      },
      "source": [
        "x_train_features = np.array(tokenizer.texts_to_sequences(x_train))\n",
        "x_test_features = np.array(tokenizer.texts_to_sequences(x_test))\n",
        "\n",
        "x_train_features = pad_sequences(x_train_features,maxlen=maxlen)\n",
        "x_test_features = pad_sequences(x_test_features,maxlen=maxlen)"
      ],
      "execution_count": 33,
      "outputs": [
        {
          "output_type": "stream",
          "text": [
            "/usr/local/lib/python3.7/dist-packages/ipykernel_launcher.py:1: VisibleDeprecationWarning: Creating an ndarray from ragged nested sequences (which is a list-or-tuple of lists-or-tuples-or ndarrays with different lengths or shapes) is deprecated. If you meant to do this, you must specify 'dtype=object' when creating the ndarray\n",
            "  \"\"\"Entry point for launching an IPython kernel.\n",
            "/usr/local/lib/python3.7/dist-packages/ipykernel_launcher.py:2: VisibleDeprecationWarning: Creating an ndarray from ragged nested sequences (which is a list-or-tuple of lists-or-tuples-or ndarrays with different lengths or shapes) is deprecated. If you meant to do this, you must specify 'dtype=object' when creating the ndarray\n",
            "  \n"
          ],
          "name": "stderr"
        }
      ]
    },
    {
      "cell_type": "markdown",
      "metadata": {
        "id": "gOoYojWtJg3O"
      },
      "source": [
        "# Neural Network Embedding From Scratch"
      ]
    },
    {
      "cell_type": "code",
      "metadata": {
        "id": "zncorqyvJg3O"
      },
      "source": [
        "from keras.layers import Dense, Input, LSTM, Embedding, Dropout, Activation,GRU\n",
        "from keras.layers import Bidirectional, GlobalMaxPool1D\n",
        "from keras.models import Model\n",
        "from keras import initializers, regularizers, constraints, optimizers, layers\n",
        "from keras.preprocessing.text import Tokenizer\n",
        "from keras.preprocessing.sequence import pad_sequences"
      ],
      "execution_count": 61,
      "outputs": []
    },
    {
      "cell_type": "code",
      "metadata": {
        "id": "p9W9PJZDJg3S"
      },
      "source": [
        "embed_size = 100 # how big is each word vector\n",
        "max_feature = 50000 # how many unique words to use (i.e num rows in embedding vector)\n",
        "max_len = 2000 # max number of words in a question to use"
      ],
      "execution_count": 62,
      "outputs": []
    },
    {
      "cell_type": "code",
      "metadata": {
        "id": "tfrdY0NbJg3U"
      },
      "source": [
        "tokenizer = Tokenizer(num_words=max_feature)"
      ],
      "execution_count": 63,
      "outputs": []
    },
    {
      "cell_type": "code",
      "metadata": {
        "id": "0ulmgu2_Jg3V"
      },
      "source": [
        "tokenizer.fit_on_texts(x_train)"
      ],
      "execution_count": 64,
      "outputs": []
    },
    {
      "cell_type": "code",
      "metadata": {
        "id": "15_Olth-Jg3W",
        "colab": {
          "base_uri": "https://localhost:8080/"
        },
        "outputId": "0c60f01c-aa5d-4742-f9f5-4a433c55595b"
      },
      "source": [
        "x_train_features = np.array(tokenizer.texts_to_sequences(x_train))\n",
        "x_test_features = np.array(tokenizer.texts_to_sequences(x_test))"
      ],
      "execution_count": 65,
      "outputs": [
        {
          "output_type": "stream",
          "text": [
            "/usr/local/lib/python3.7/dist-packages/ipykernel_launcher.py:1: VisibleDeprecationWarning: Creating an ndarray from ragged nested sequences (which is a list-or-tuple of lists-or-tuples-or ndarrays with different lengths or shapes) is deprecated. If you meant to do this, you must specify 'dtype=object' when creating the ndarray\n",
            "  \"\"\"Entry point for launching an IPython kernel.\n",
            "/usr/local/lib/python3.7/dist-packages/ipykernel_launcher.py:2: VisibleDeprecationWarning: Creating an ndarray from ragged nested sequences (which is a list-or-tuple of lists-or-tuples-or ndarrays with different lengths or shapes) is deprecated. If you meant to do this, you must specify 'dtype=object' when creating the ndarray\n",
            "  \n"
          ],
          "name": "stderr"
        }
      ]
    },
    {
      "cell_type": "code",
      "metadata": {
        "id": "STmnfjEsJg3X"
      },
      "source": [
        "x_train_features = pad_sequences(x_train_features,maxlen=max_len)\n",
        "x_test_features = pad_sequences(x_test_features,maxlen=max_len)"
      ],
      "execution_count": 66,
      "outputs": []
    },
    {
      "cell_type": "code",
      "metadata": {
        "id": "TxXSia3XJg3Z",
        "colab": {
          "base_uri": "https://localhost:8080/"
        },
        "outputId": "7510f8db-0723-4c5a-9fb9-ec1ecfc35533"
      },
      "source": [
        "embed_size = 100\n",
        "\n",
        "inp = Input(shape=(max_len,))\n",
        "x = Embedding(max_feature, embed_size)(inp)\n",
        "x = Bidirectional(GRU(64, return_sequences=True))(x)\n",
        "x = GlobalMaxPool1D()(x)\n",
        "x = Dense(16, activation=\"relu\")(x)\n",
        "x = Dropout(0.1)(x)\n",
        "x = Dense(1, activation=\"sigmoid\")(x)\n",
        "model = Model(inputs=inp, outputs=x)\n",
        "model.compile(loss='binary_crossentropy', optimizer='adam', metrics=['accuracy'])\n",
        "\n",
        "print(model.summary())"
      ],
      "execution_count": 67,
      "outputs": [
        {
          "output_type": "stream",
          "text": [
            "Model: \"model_3\"\n",
            "_________________________________________________________________\n",
            "Layer (type)                 Output Shape              Param #   \n",
            "=================================================================\n",
            "input_4 (InputLayer)         [(None, 2000)]            0         \n",
            "_________________________________________________________________\n",
            "embedding_3 (Embedding)      (None, 2000, 100)         5000000   \n",
            "_________________________________________________________________\n",
            "bidirectional_3 (Bidirection (None, 2000, 128)         63744     \n",
            "_________________________________________________________________\n",
            "global_max_pooling1d_2 (Glob (None, 128)               0         \n",
            "_________________________________________________________________\n",
            "dense_6 (Dense)              (None, 16)                2064      \n",
            "_________________________________________________________________\n",
            "dropout_2 (Dropout)          (None, 16)                0         \n",
            "_________________________________________________________________\n",
            "dense_7 (Dense)              (None, 1)                 17        \n",
            "=================================================================\n",
            "Total params: 5,065,825\n",
            "Trainable params: 5,065,825\n",
            "Non-trainable params: 0\n",
            "_________________________________________________________________\n",
            "None\n"
          ],
          "name": "stdout"
        }
      ]
    },
    {
      "cell_type": "code",
      "metadata": {
        "id": "wLR9OTUGJg3g",
        "colab": {
          "base_uri": "https://localhost:8080/"
        },
        "outputId": "e2c8d917-9ee6-43b2-daf4-5967c09482d7"
      },
      "source": [
        "history = model.fit(x_train_features, y_train, batch_size=512, epochs=10, validation_data=(x_test_features, y_test))"
      ],
      "execution_count": 71,
      "outputs": [
        {
          "output_type": "stream",
          "text": [
            "Epoch 1/10\n",
            "9/9 [==============================] - 9s 698ms/step - loss: 0.6899 - accuracy: 0.5199 - val_loss: 0.6316 - val_accuracy: 0.8655\n",
            "Epoch 2/10\n",
            "9/9 [==============================] - 5s 601ms/step - loss: 0.6067 - accuracy: 0.8657 - val_loss: 0.5115 - val_accuracy: 0.8655\n",
            "Epoch 3/10\n",
            "9/9 [==============================] - 5s 602ms/step - loss: 0.4761 - accuracy: 0.8640 - val_loss: 0.3860 - val_accuracy: 0.8655\n",
            "Epoch 4/10\n",
            "9/9 [==============================] - 5s 605ms/step - loss: 0.3969 - accuracy: 0.8685 - val_loss: 0.3574 - val_accuracy: 0.8655\n",
            "Epoch 5/10\n",
            "9/9 [==============================] - 5s 609ms/step - loss: 0.3745 - accuracy: 0.8582 - val_loss: 0.3188 - val_accuracy: 0.8655\n",
            "Epoch 6/10\n",
            "9/9 [==============================] - 5s 610ms/step - loss: 0.3006 - accuracy: 0.8761 - val_loss: 0.2414 - val_accuracy: 0.8691\n",
            "Epoch 7/10\n",
            "9/9 [==============================] - 5s 608ms/step - loss: 0.2129 - accuracy: 0.9165 - val_loss: 0.1239 - val_accuracy: 0.9704\n",
            "Epoch 8/10\n",
            "9/9 [==============================] - 6s 622ms/step - loss: 0.0988 - accuracy: 0.9853 - val_loss: 0.0593 - val_accuracy: 0.9865\n",
            "Epoch 9/10\n",
            "9/9 [==============================] - 5s 607ms/step - loss: 0.0466 - accuracy: 0.9902 - val_loss: 0.0519 - val_accuracy: 0.9901\n",
            "Epoch 10/10\n",
            "9/9 [==============================] - 5s 613ms/step - loss: 0.0232 - accuracy: 0.9976 - val_loss: 0.0546 - val_accuracy: 0.9901\n"
          ],
          "name": "stdout"
        }
      ]
    },
    {
      "cell_type": "code",
      "metadata": {
        "id": "o6ddZ8E1Jg3k",
        "colab": {
          "base_uri": "https://localhost:8080/",
          "height": 295
        },
        "outputId": "c6c403ad-63c2-4d17-d2e9-ba32cc94d2af"
      },
      "source": [
        "plt.plot(history.history['accuracy'])\n",
        "plt.title('model accuracy')\n",
        "plt.ylabel('accuracy')\n",
        "plt.xlabel('epoch')\n",
        "plt.legend(['train', 'test'], loc='upper left')\n",
        "plt.show()"
      ],
      "execution_count": 72,
      "outputs": [
        {
          "output_type": "display_data",
          "data": {
            "image/png": "[encoded data removed]",
            "text/plain": [
              "<Figure size 432x288 with 1 Axes>"
            ]
          },
          "metadata": {
            "tags": [],
            "needs_background": "light"
          }
        }
      ]
    },
    {
      "cell_type": "markdown",
      "metadata": {
        "id": "j5yDxKs7Jg3l"
      },
      "source": [
        "## Neural Network"
      ]
    },
    {
      "cell_type": "code",
      "metadata": {
        "id": "TzGF_hA4Jg3m"
      },
      "source": [
        "from sklearn.metrics import confusion_matrix,f1_score, precision_score,recall_score"
      ],
      "execution_count": 73,
      "outputs": []
    },
    {
      "cell_type": "code",
      "metadata": {
        "id": "gkJQ-yURJg3n"
      },
      "source": [
        "y_predict  = [1 if o>0.5 else 0 for o in model.predict(x_test_features)]"
      ],
      "execution_count": 74,
      "outputs": []
    },
    {
      "cell_type": "code",
      "metadata": {
        "id": "gB21196PJg3o",
        "colab": {
          "base_uri": "https://localhost:8080/"
        },
        "outputId": "d73f1bd4-0c5a-443b-bef6-1ba7ee757809"
      },
      "source": [
        "confusion_matrix(y_test,y_predict)"
      ],
      "execution_count": 75,
      "outputs": [
        {
          "output_type": "execute_result",
          "data": {
            "text/plain": [
              "array([[963,   2],\n",
              "       [  9, 141]])"
            ]
          },
          "metadata": {
            "tags": []
          },
          "execution_count": 75
        }
      ]
    },
    {
      "cell_type": "code",
      "metadata": {
        "id": "kberNYWIJg3r"
      },
      "source": [
        "tn, fp, fn, tp = confusion_matrix(y_test,y_predict).ravel()"
      ],
      "execution_count": 76,
      "outputs": []
    },
    {
      "cell_type": "code",
      "metadata": {
        "id": "kshhXwFAJg3s",
        "colab": {
          "base_uri": "https://localhost:8080/"
        },
        "outputId": "419c83bd-9648-4de4-e149-9ab3a4aab6e4"
      },
      "source": [
        "print(\"Precision: {:.2f}%\".format(100 * precision_score(y_test, y_predict)))\n",
        "print(\"Recall: {:.2f}%\".format(100 * recall_score(y_test, y_predict)))"
      ],
      "execution_count": 77,
      "outputs": [
        {
          "output_type": "stream",
          "text": [
            "Precision: 98.60%\n",
            "Recall: 94.00%\n"
          ],
          "name": "stdout"
        }
      ]
    },
    {
      "cell_type": "code",
      "metadata": {
        "id": "x8pacWZkJg3v",
        "colab": {
          "base_uri": "https://localhost:8080/"
        },
        "outputId": "6811a15e-c73b-4f18-b7f8-e95c2a8b29ba"
      },
      "source": [
        "f1_score(y_test,y_predict)"
      ],
      "execution_count": 78,
      "outputs": [
        {
          "output_type": "execute_result",
          "data": {
            "text/plain": [
              "0.962457337883959"
            ]
          },
          "metadata": {
            "tags": []
          },
          "execution_count": 78
        }
      ]
    },
    {
      "cell_type": "markdown",
      "metadata": {
        "id": "09TivZGrJg3y"
      },
      "source": [
        "## Error Analysis\n",
        "\n",
        "### Plot confusion matrix"
      ]
    },
    {
      "cell_type": "code",
      "metadata": {
        "id": "KJyDyVJHJg3y"
      },
      "source": [
        "import matplotlib.pyplot as plt\n",
        "from sklearn.metrics import confusion_matrix\n",
        "import itertools\n",
        "\n",
        "cnf_matrix = confusion_matrix(y_test,y_predict)\n",
        "\n",
        "def plot_confusion_matrix(cm, classes,\n",
        "                          normalize=False,\n",
        "                          title='Confusion matrix',\n",
        "                          cmap=plt.cm.Blues):\n",
        "    \"\"\"\n",
        "    This function prints and plots the confusion matrix.\n",
        "    Normalization can be applied by setting `normalize=True`.\n",
        "    \"\"\"\n",
        "    if normalize:\n",
        "        cm = cm.astype('float') / cm.sum(axis=1)[:, np.newaxis]\n",
        "        print(\"Normalized confusion matrix\")\n",
        "    else:\n",
        "        print('Confusion matrix, without normalization')\n",
        "\n",
        "    print(cm)\n",
        "\n",
        "    plt.imshow(cm, interpolation='nearest', cmap=cmap)\n",
        "    plt.title(title)\n",
        "    plt.colorbar()\n",
        "    tick_marks = np.arange(len(classes))\n",
        "    plt.xticks(tick_marks, classes, rotation=45)\n",
        "    plt.yticks(tick_marks, classes)\n",
        "\n",
        "    fmt = '.2f' if normalize else 'd'\n",
        "    thresh = cm.max() / 2.\n",
        "    for i, j in itertools.product(range(cm.shape[0]), range(cm.shape[1])):\n",
        "        plt.text(j, i, format(cm[i, j], fmt),\n",
        "                 horizontalalignment=\"center\",\n",
        "                 color=\"white\" if cm[i, j] > thresh else \"black\")\n",
        "\n",
        "    plt.ylabel('True label')\n",
        "    plt.xlabel('Predicted label')\n",
        "    plt.tight_layout()"
      ],
      "execution_count": 79,
      "outputs": []
    },
    {
      "cell_type": "markdown",
      "metadata": {
        "id": "78278baOJg3z"
      },
      "source": [
        "# Plot normalized confusion matrix"
      ]
    },
    {
      "cell_type": "code",
      "metadata": {
        "id": "xSafPEb4Jg3z",
        "colab": {
          "base_uri": "https://localhost:8080/",
          "height": 348
        },
        "outputId": "d4b7cf0e-2468-4435-ab9f-297d481c4d15"
      },
      "source": [
        "plt.figure()\n",
        "plot_confusion_matrix(cnf_matrix, classes=['Non Spam','Spam'], normalize=False,\n",
        "                      title='Confusion matrix')"
      ],
      "execution_count": 80,
      "outputs": [
        {
          "output_type": "stream",
          "text": [
            "Confusion matrix, without normalization\n",
            "[[963   2]\n",
            " [  9 141]]\n"
          ],
          "name": "stdout"
        },
        {
          "output_type": "display_data",
          "data": {
            "image/png": "[encoded data removed]",
            "text/plain": [
              "<Figure size 432x288 with 2 Axes>"
            ]
          },
          "metadata": {
            "tags": [],
            "needs_background": "light"
          }
        }
      ]
    }
  ]
}